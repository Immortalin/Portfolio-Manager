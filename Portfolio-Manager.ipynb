{
 "cells": [
  {
   "cell_type": "markdown",
   "metadata": {},
   "source": [
    "# Portfolio Manager"
   ]
  },
  {
   "cell_type": "markdown",
   "metadata": {},
   "source": [
    "## Dependencies"
   ]
  },
  {
   "cell_type": "code",
   "execution_count": 1,
   "metadata": {
    "collapsed": false,
    "scrolled": false
   },
   "outputs": [],
   "source": [
    "import requests\n",
    "import json\n",
    "import numpy as np\n",
    "import cvxopt.solvers\n",
    "import datetime\n",
    "from dateutil.relativedelta import *\n",
    "from forex_python.converter import CurrencyRates"
   ]
  },
  {
   "cell_type": "code",
   "execution_count": 2,
   "metadata": {
    "collapsed": true,
    "scrolled": true
   },
   "outputs": [],
   "source": [
    "cvxopt.solvers.options['show_progress'] = False"
   ]
  },
  {
   "cell_type": "markdown",
   "metadata": {},
   "source": [
    "## Server API implementation"
   ]
  },
  {
   "cell_type": "code",
   "execution_count": 38,
   "metadata": {
    "collapsed": true,
    "scrolled": false
   },
   "outputs": [],
   "source": [
    "class server_api:\n",
    "    def __init__(self, user='', pwd=''):\n",
    "        self.url = 'https://dolphin.jump-technology.com:3389/api/v1/'\n",
    "        self.s = requests.Session()\n",
    "        self.s.auth = (user, pwd)\n",
    "        self.s.headers.update({'x-test': 'true'})\n",
    "    def expand_params(self, req, params):\n",
    "        request = ''\n",
    "        if type(params) is tuple:\n",
    "            request = self.url + (req.format(*params))\n",
    "        else:\n",
    "            request = self.url + (req.format(params))\n",
    "        return request\n",
    "    def get(self, req, params):\n",
    "        request = self.expand_params(req, params)\n",
    "        self.res = ''\n",
    "        try:\n",
    "            self.data = self.s.get(request, headers={'x-test2': 'true'}, verify=False)\n",
    "            self.res = json.loads(self.data.text)\n",
    "        except:\n",
    "            print('Error while connecting')\n",
    "        return self.res\n",
    "    def post(self, req, params, body):\n",
    "        request = self.expand_params(req, params)\n",
    "        self.res = ''\n",
    "        try:\n",
    "            self.data = self.s.post(url=request, data=json.dumps(body), headers={'x-test2': 'true'}, verify=False)\n",
    "            self.res = json.loads(self.data.text)\n",
    "        except Exception as err:\n",
    "            print(err)\n",
    "            print('Error while connecting')\n",
    "        return self.res\n",
    "    def put(self, req, params, body):\n",
    "        request = self.expand_params(req, params)\n",
    "        self.res = ''\n",
    "        print('req', request)\n",
    "        try:\n",
    "            self.data = self.s.put(url=request, data=json.dumps(body), headers={'x-test2': 'true'}, verify=False)\n",
    "            if len(self.data.text) > 0:\n",
    "                self.res = json.loads(self.data.text)\n",
    "        except Exception as err:\n",
    "            print(err)\n",
    "            print('Error while connecting')\n",
    "        return self.res\n",
    "    def get_cached(self):\n",
    "        return self.res"
   ]
  },
  {
   "cell_type": "code",
   "execution_count": 40,
   "metadata": {
    "collapsed": false,
    "scrolled": true
   },
   "outputs": [],
   "source": [
    "server = server_api('epita_user_7', 'dolphin19423')"
   ]
  },
  {
   "cell_type": "markdown",
   "metadata": {},
   "source": [
    "## Portfolio Manager implementation"
   ]
  },
  {
   "cell_type": "code",
   "execution_count": 5,
   "metadata": {
    "collapsed": false,
    "scrolled": false
   },
   "outputs": [],
   "source": [
    "class portfolio_manager:\n",
    "    def __init__(self, date_begin, date_end, nb_assets=20, all_currencies=False):\n",
    "        print('Getting all assets...')\n",
    "        self.all_assets = server.get('asset', ())\n",
    "        \n",
    "        self.nb_assets = nb_assets\n",
    "        \n",
    "        self.ids = []\n",
    "        if all_currencies:\n",
    "            for i in self.all_assets:\n",
    "                self.ids.append(int(i['ASSET_DATABASE_ID']['value']))\n",
    "        else:\n",
    "            for i in self.all_assets:\n",
    "                if i['CURRENCY']['value'] == 'EUR':\n",
    "                    self.ids.append(int(i['ASSET_DATABASE_ID']['value']))\n",
    "\n",
    "        self.real_assets_nb = len(self.ids)\n",
    "        self.real_assets_nb_bk = len(self.ids)\n",
    "        print('Received', self.real_assets_nb, 'assets.')\n",
    "\n",
    "        self.date_b = datetime.datetime(*date_begin)\n",
    "        self.date_e = datetime.datetime(*date_end)\n",
    "\n",
    "        date_len = self.date_e - self.date_b\n",
    "\n",
    "        self.assets = []\n",
    "        #off = 0\n",
    "        #i = beg\n",
    "        self.names = []\n",
    "        \n",
    "        self.asset = []\n",
    "        \n",
    "        \"\"\"obj = {'ratio':[21],'asset': [i for i in range(beg, nb_assets)],'start_date':date_b.isoformat(),'end_date':date_e.isoformat(),\n",
    "               'frequency':'monthly'}\n",
    "        self.asset = server.post('ratio/invoke', (), obj)\n",
    "        while len(self.asset) < nb_assets:\n",
    "            off += nb_assets - len(self.asset)\n",
    "\n",
    "            obj = {'ratio':[21],'asset': [i for i in range(beg, off)],'start_date':date_b.isoformat(),'end_date':date_e.isoformat(),\n",
    "               'frequency':'monthly'}\n",
    "            self.asset = server.post('ratio/invoke', (), obj)\n",
    "        \"\"\"\n",
    "        \n",
    "        print('Getting the chosen assets\\' monthly returns/sharpe ratios...')\n",
    "        self.max_size = 0\n",
    "        ratios = [20, 21]\n",
    "        self.date_b2 = self.date_b\n",
    "        while self.date_b2 < self.date_e:\n",
    "            self.max_size += 1\n",
    "            date_b_tmp = self.date_b2\n",
    "            self.date_b2 += relativedelta(months=+1)\n",
    "            print('Retrieving ', len(self.ids), 'ratios at date ', self.date_b2, '...')\n",
    "            obj = {'ratio': ratios,'asset': self.ids,'start_date':date_b_tmp.isoformat(),'end_date':self.date_b2.isoformat(),\n",
    "               'frequency':'monthly'}\n",
    "            data = server.post('ratio/invoke', (), obj)\n",
    "            #print(data)\n",
    "            self.assets.append(data)\n",
    "\n",
    "    def get_assets(self):\n",
    "        return self.assets"
   ]
  },
  {
   "cell_type": "code",
   "execution_count": 6,
   "metadata": {
    "collapsed": false,
    "scrolled": true
   },
   "outputs": [],
   "source": [
    "    def choose_best_assets(self, size=0):\n",
    "        #print(self.assets[0])\n",
    "        self.real_assets_nb = self.real_assets_nb_bk\n",
    "        if size != 0:\n",
    "            self.real_assets_nb = size\n",
    "        \n",
    "        self.r = np.zeros((self.max_size, self.real_assets_nb))\n",
    "        self.sharpes = np.zeros((self.max_size, self.real_assets_nb))\n",
    "        print(self.r.shape)\n",
    "        print(len(self.assets))\n",
    "        print(self.nb_assets)\n",
    "        print(self.real_assets_nb)\n",
    "        print('max', self.max_size)\n",
    "        self.assets_ids = np.zeros(self.real_assets_nb, dtype=np.int)\n",
    "        i = 0\n",
    "        j = 0\n",
    "        for ass in self.assets:\n",
    "            j = 0\n",
    "            for k, v in ass.items():\n",
    "                if j == self.real_assets_nb:\n",
    "                    break\n",
    "                if '20' in v:\n",
    "                    self.sharpes[i][j] = float(v['20']['value'].replace(',', '.'))\n",
    "                else:\n",
    "                    self.sharpes[i][j] = 0.0\n",
    "                self.r[i][j] = float(v['21']['value'].replace(',', '.'))\n",
    "                self.assets_ids[j] = int(k)\n",
    "                #if self.r[i][j] == 0.0:\n",
    "                #print(i, j, self.sharpes[i][j], self.r[i][j])\n",
    "                #print(i, j, float(v['21']['value'].replace(',', '.')))\n",
    "                j += 1\n",
    "            i += 1\n",
    "\n",
    "        print(self.assets_ids)\n",
    "        self.sharpe_means_idx = np.argsort([np.mean(self.sharpes[:, i]) for i in range(self.real_assets_nb)])[:self.nb_assets]\n",
    "        print(self.sharpe_means_idx)\n",
    "        self.assets_rets = []\n",
    "        print(self.date_b.strftime('%Y-%m-%d'))\n",
    "        print(self.date_e.strftime('%Y-%m-%d'))\n",
    "        for i in self.sharpe_means_idx:\n",
    "            asset = server.get('asset/{}/quote?start_date={}&end_date={}', (self.assets_ids[i], self.date_b.strftime('%Y-%m-%d'), self.date_e.strftime('%Y-%m-%d')))\n",
    "            print('id', i, self.assets_ids[i], len(asset))\n",
    "            self.assets_rets.append(np.array(asset))\n",
    "\n",
    "        self.r = self.r[:, self.sharpe_means_idx]\n",
    "\n",
    "        print(self.r)\n",
    "\n",
    "        print(self.real_assets_nb)\n",
    "\n",
    "    portfolio_manager.choose_best_assets = choose_best_assets"
   ]
  },
  {
   "cell_type": "code",
   "execution_count": 7,
   "metadata": {
    "collapsed": true,
    "scrolled": false
   },
   "outputs": [],
   "source": [
    "    def compute_means_and_cov(self):\n",
    "        self.assets_means = []\n",
    "        rets = []\n",
    "        \n",
    "        #print('asset0', self.assets[0])\n",
    "        #print('asset1', self.assets[1])\n",
    "\n",
    "        self.assets_rets = np.array(self.assets_rets)\n",
    "        print(self.assets_rets.shape)\n",
    "        #print(self.assets_rets)\n",
    "        min_size = 9999999999\n",
    "        print('Computing means and cov for', self.r.shape[1], 'assets')\n",
    "        print(self.r.shape)\n",
    "        for asset in range(self.assets_rets.shape[0]):\n",
    "            print(self.assets_rets[asset].shape)\n",
    "            print('ass', asset)\n",
    "            returns = [self.assets_rets[asset][i]['return'] for i in range(self.assets_rets[asset].shape[0])]\n",
    "            min_size = min(min_size, len(returns))\n",
    "            rets.append(np.array(returns))\n",
    "            mean_ret = np.mean(returns)\n",
    "            self.assets_means.append(mean_ret)\n",
    "            print('mean', mean_ret)\n",
    "            #print('rets', returns)\n",
    "\n",
    "        rets = np.array(rets)\n",
    "\n",
    "        #self.assets_means = np.array(self.assets_means)\n",
    "\n",
    "        print(min_size)\n",
    "\n",
    "        self.rets_norm = []\n",
    "        for asset in range(self.assets_rets.shape[0]):\n",
    "            self.rets_norm.append(rets[asset][:min_size])\n",
    "\n",
    "        self.rets_norm = np.array(self.rets_norm)\n",
    "        self.cov = np.cov(self.rets_norm)\n",
    "        \n",
    "        #print(self.cov.shape)\n",
    "        \n",
    "        return (np.array(self.assets_means), self.cov)\n",
    "    \n",
    "    portfolio_manager.compute_means_and_cov = compute_means_and_cov"
   ]
  },
  {
   "cell_type": "code",
   "execution_count": 8,
   "metadata": {
    "collapsed": true,
    "scrolled": false
   },
   "outputs": [],
   "source": [
    "    def precompute_data(self):\n",
    "        self.means, self.cov = p_m.compute_means_and_cov()\n",
    "        \n",
    "        print(self.means.shape[0])\n",
    "        m = self.means.shape[0]\n",
    "        \n",
    "        #print(m)\n",
    "        r_min = 0.1\n",
    "        \n",
    "        print(self.cov.shape)\n",
    "        self.P = cvxopt.matrix(self.cov)\n",
    "\n",
    "        self.A = cvxopt.matrix(np.ones(m), (1, m), 'd')\n",
    "        self.b = cvxopt.matrix(1.0)\n",
    "        \n",
    "        hard_G = -np.identity(m)\n",
    "        soft_G = np.identity(m)\n",
    "        self.G = cvxopt.matrix(np.vstack((hard_G, soft_G)))\n",
    "\n",
    "        hard_h = -np.ones(m) * 0.01\n",
    "        soft_h = np.ones(m) * 0.1\n",
    "        self.h = cvxopt.matrix(np.hstack((hard_h, soft_h)))\n",
    "        \n",
    "        #self.G = cvxopt.matrix(-np.identity(m))\n",
    "        #self.h = cvxopt.matrix(np.ones(m), (m, 1))\n",
    "    \n",
    "    portfolio_manager.precompute_data = precompute_data"
   ]
  },
  {
   "cell_type": "code",
   "execution_count": 9,
   "metadata": {
    "collapsed": true,
    "scrolled": false
   },
   "outputs": [],
   "source": [
    "def find_portfolio(self, risk_tolerance = 1.0):\n",
    "\n",
    "        #print((-0.5 * risk_tolerance * means).shape)\n",
    "        #s = [cvxopt.solvers.qp(self.P, cvxopt.matrix(-0.5 * () * means), self.G, self.h, self.A, self.b)['x'] for i in range(nb_possible_portfolio)]\n",
    "\n",
    "        m = self.means.shape[0]\n",
    "        #print('Optimizing', m, 'assets with a risk tolerance of ', risk_tolerance)\n",
    "        #s = cvxopt.solvers.qp(self.P, cvxopt.matrix(-0.5 * risk_tolerance * self.means), self.G, self.h, self.A, self.b)['x']\n",
    "        s = cvxopt.solvers.qp(risk_tolerance * self.P, cvxopt.matrix(-self.means), self.G, self.h, self.A, self.b)['x']\n",
    "        return np.array(s)\n",
    "\n",
    "portfolio_manager.find_portfolio = find_portfolio"
   ]
  },
  {
   "cell_type": "markdown",
   "metadata": {},
   "source": [
    "## Retrieve all the assets between 2012/1/1 and 2017/6/1"
   ]
  },
  {
   "cell_type": "code",
   "execution_count": 10,
   "metadata": {
    "collapsed": false,
    "scrolled": true
   },
   "outputs": [
    {
     "name": "stdout",
     "output_type": "stream",
     "text": [
      "Getting all assets...\n"
     ]
    },
    {
     "name": "stderr",
     "output_type": "stream",
     "text": [
      "C:\\Users\\cpcdoy\\Anaconda3\\lib\\site-packages\\requests\\packages\\urllib3\\connectionpool.py:852: InsecureRequestWarning: Unverified HTTPS request is being made. Adding certificate verification is strongly advised. See: https://urllib3.readthedocs.io/en/latest/advanced-usage.html#ssl-warnings\n",
      "  InsecureRequestWarning)\n"
     ]
    },
    {
     "name": "stdout",
     "output_type": "stream",
     "text": [
      "Received 283 assets.\n",
      "Getting the chosen assets' monthly returns/sharpe ratios...\n",
      "Retrieving  283 ratios at date  2012-02-01 00:00:00 ...\n"
     ]
    },
    {
     "name": "stderr",
     "output_type": "stream",
     "text": [
      "C:\\Users\\cpcdoy\\Anaconda3\\lib\\site-packages\\requests\\packages\\urllib3\\connectionpool.py:852: InsecureRequestWarning: Unverified HTTPS request is being made. Adding certificate verification is strongly advised. See: https://urllib3.readthedocs.io/en/latest/advanced-usage.html#ssl-warnings\n",
      "  InsecureRequestWarning)\n"
     ]
    },
    {
     "name": "stdout",
     "output_type": "stream",
     "text": [
      "Retrieving  283 ratios at date  2012-03-01 00:00:00 ...\n"
     ]
    },
    {
     "name": "stderr",
     "output_type": "stream",
     "text": [
      "C:\\Users\\cpcdoy\\Anaconda3\\lib\\site-packages\\requests\\packages\\urllib3\\connectionpool.py:852: InsecureRequestWarning: Unverified HTTPS request is being made. Adding certificate verification is strongly advised. See: https://urllib3.readthedocs.io/en/latest/advanced-usage.html#ssl-warnings\n",
      "  InsecureRequestWarning)\n"
     ]
    },
    {
     "name": "stdout",
     "output_type": "stream",
     "text": [
      "Retrieving  283 ratios at date  2012-04-01 00:00:00 ...\n"
     ]
    },
    {
     "name": "stderr",
     "output_type": "stream",
     "text": [
      "C:\\Users\\cpcdoy\\Anaconda3\\lib\\site-packages\\requests\\packages\\urllib3\\connectionpool.py:852: InsecureRequestWarning: Unverified HTTPS request is being made. Adding certificate verification is strongly advised. See: https://urllib3.readthedocs.io/en/latest/advanced-usage.html#ssl-warnings\n",
      "  InsecureRequestWarning)\n"
     ]
    },
    {
     "name": "stdout",
     "output_type": "stream",
     "text": [
      "Retrieving  283 ratios at date  2012-05-01 00:00:00 ...\n"
     ]
    },
    {
     "name": "stderr",
     "output_type": "stream",
     "text": [
      "C:\\Users\\cpcdoy\\Anaconda3\\lib\\site-packages\\requests\\packages\\urllib3\\connectionpool.py:852: InsecureRequestWarning: Unverified HTTPS request is being made. Adding certificate verification is strongly advised. See: https://urllib3.readthedocs.io/en/latest/advanced-usage.html#ssl-warnings\n",
      "  InsecureRequestWarning)\n"
     ]
    },
    {
     "name": "stdout",
     "output_type": "stream",
     "text": [
      "Retrieving  283 ratios at date  2012-06-01 00:00:00 ...\n"
     ]
    },
    {
     "name": "stderr",
     "output_type": "stream",
     "text": [
      "C:\\Users\\cpcdoy\\Anaconda3\\lib\\site-packages\\requests\\packages\\urllib3\\connectionpool.py:852: InsecureRequestWarning: Unverified HTTPS request is being made. Adding certificate verification is strongly advised. See: https://urllib3.readthedocs.io/en/latest/advanced-usage.html#ssl-warnings\n",
      "  InsecureRequestWarning)\n"
     ]
    },
    {
     "name": "stdout",
     "output_type": "stream",
     "text": [
      "Retrieving  283 ratios at date  2012-07-01 00:00:00 ...\n"
     ]
    },
    {
     "name": "stderr",
     "output_type": "stream",
     "text": [
      "C:\\Users\\cpcdoy\\Anaconda3\\lib\\site-packages\\requests\\packages\\urllib3\\connectionpool.py:852: InsecureRequestWarning: Unverified HTTPS request is being made. Adding certificate verification is strongly advised. See: https://urllib3.readthedocs.io/en/latest/advanced-usage.html#ssl-warnings\n",
      "  InsecureRequestWarning)\n"
     ]
    },
    {
     "name": "stdout",
     "output_type": "stream",
     "text": [
      "Retrieving  283 ratios at date  2012-08-01 00:00:00 ...\n"
     ]
    },
    {
     "name": "stderr",
     "output_type": "stream",
     "text": [
      "C:\\Users\\cpcdoy\\Anaconda3\\lib\\site-packages\\requests\\packages\\urllib3\\connectionpool.py:852: InsecureRequestWarning: Unverified HTTPS request is being made. Adding certificate verification is strongly advised. See: https://urllib3.readthedocs.io/en/latest/advanced-usage.html#ssl-warnings\n",
      "  InsecureRequestWarning)\n"
     ]
    },
    {
     "name": "stdout",
     "output_type": "stream",
     "text": [
      "Retrieving  283 ratios at date  2012-09-01 00:00:00 ...\n"
     ]
    },
    {
     "name": "stderr",
     "output_type": "stream",
     "text": [
      "C:\\Users\\cpcdoy\\Anaconda3\\lib\\site-packages\\requests\\packages\\urllib3\\connectionpool.py:852: InsecureRequestWarning: Unverified HTTPS request is being made. Adding certificate verification is strongly advised. See: https://urllib3.readthedocs.io/en/latest/advanced-usage.html#ssl-warnings\n",
      "  InsecureRequestWarning)\n"
     ]
    },
    {
     "name": "stdout",
     "output_type": "stream",
     "text": [
      "Retrieving  283 ratios at date  2012-10-01 00:00:00 ...\n"
     ]
    },
    {
     "name": "stderr",
     "output_type": "stream",
     "text": [
      "C:\\Users\\cpcdoy\\Anaconda3\\lib\\site-packages\\requests\\packages\\urllib3\\connectionpool.py:852: InsecureRequestWarning: Unverified HTTPS request is being made. Adding certificate verification is strongly advised. See: https://urllib3.readthedocs.io/en/latest/advanced-usage.html#ssl-warnings\n",
      "  InsecureRequestWarning)\n"
     ]
    },
    {
     "name": "stdout",
     "output_type": "stream",
     "text": [
      "Retrieving  283 ratios at date  2012-11-01 00:00:00 ...\n"
     ]
    },
    {
     "name": "stderr",
     "output_type": "stream",
     "text": [
      "C:\\Users\\cpcdoy\\Anaconda3\\lib\\site-packages\\requests\\packages\\urllib3\\connectionpool.py:852: InsecureRequestWarning: Unverified HTTPS request is being made. Adding certificate verification is strongly advised. See: https://urllib3.readthedocs.io/en/latest/advanced-usage.html#ssl-warnings\n",
      "  InsecureRequestWarning)\n"
     ]
    },
    {
     "name": "stdout",
     "output_type": "stream",
     "text": [
      "Retrieving  283 ratios at date  2012-12-01 00:00:00 ...\n"
     ]
    },
    {
     "name": "stderr",
     "output_type": "stream",
     "text": [
      "C:\\Users\\cpcdoy\\Anaconda3\\lib\\site-packages\\requests\\packages\\urllib3\\connectionpool.py:852: InsecureRequestWarning: Unverified HTTPS request is being made. Adding certificate verification is strongly advised. See: https://urllib3.readthedocs.io/en/latest/advanced-usage.html#ssl-warnings\n",
      "  InsecureRequestWarning)\n"
     ]
    },
    {
     "name": "stdout",
     "output_type": "stream",
     "text": [
      "Retrieving  283 ratios at date  2013-01-01 00:00:00 ...\n"
     ]
    },
    {
     "name": "stderr",
     "output_type": "stream",
     "text": [
      "C:\\Users\\cpcdoy\\Anaconda3\\lib\\site-packages\\requests\\packages\\urllib3\\connectionpool.py:852: InsecureRequestWarning: Unverified HTTPS request is being made. Adding certificate verification is strongly advised. See: https://urllib3.readthedocs.io/en/latest/advanced-usage.html#ssl-warnings\n",
      "  InsecureRequestWarning)\n"
     ]
    },
    {
     "name": "stdout",
     "output_type": "stream",
     "text": [
      "Retrieving  283 ratios at date  2013-02-01 00:00:00 ...\n"
     ]
    },
    {
     "name": "stderr",
     "output_type": "stream",
     "text": [
      "C:\\Users\\cpcdoy\\Anaconda3\\lib\\site-packages\\requests\\packages\\urllib3\\connectionpool.py:852: InsecureRequestWarning: Unverified HTTPS request is being made. Adding certificate verification is strongly advised. See: https://urllib3.readthedocs.io/en/latest/advanced-usage.html#ssl-warnings\n",
      "  InsecureRequestWarning)\n"
     ]
    },
    {
     "name": "stdout",
     "output_type": "stream",
     "text": [
      "Retrieving  283 ratios at date  2013-03-01 00:00:00 ...\n"
     ]
    },
    {
     "name": "stderr",
     "output_type": "stream",
     "text": [
      "C:\\Users\\cpcdoy\\Anaconda3\\lib\\site-packages\\requests\\packages\\urllib3\\connectionpool.py:852: InsecureRequestWarning: Unverified HTTPS request is being made. Adding certificate verification is strongly advised. See: https://urllib3.readthedocs.io/en/latest/advanced-usage.html#ssl-warnings\n",
      "  InsecureRequestWarning)\n"
     ]
    },
    {
     "name": "stdout",
     "output_type": "stream",
     "text": [
      "Retrieving  283 ratios at date  2013-04-01 00:00:00 ...\n"
     ]
    },
    {
     "name": "stderr",
     "output_type": "stream",
     "text": [
      "C:\\Users\\cpcdoy\\Anaconda3\\lib\\site-packages\\requests\\packages\\urllib3\\connectionpool.py:852: InsecureRequestWarning: Unverified HTTPS request is being made. Adding certificate verification is strongly advised. See: https://urllib3.readthedocs.io/en/latest/advanced-usage.html#ssl-warnings\n",
      "  InsecureRequestWarning)\n"
     ]
    },
    {
     "name": "stdout",
     "output_type": "stream",
     "text": [
      "Retrieving  283 ratios at date  2013-05-01 00:00:00 ...\n"
     ]
    },
    {
     "name": "stderr",
     "output_type": "stream",
     "text": [
      "C:\\Users\\cpcdoy\\Anaconda3\\lib\\site-packages\\requests\\packages\\urllib3\\connectionpool.py:852: InsecureRequestWarning: Unverified HTTPS request is being made. Adding certificate verification is strongly advised. See: https://urllib3.readthedocs.io/en/latest/advanced-usage.html#ssl-warnings\n",
      "  InsecureRequestWarning)\n"
     ]
    },
    {
     "name": "stdout",
     "output_type": "stream",
     "text": [
      "Retrieving  283 ratios at date  2013-06-01 00:00:00 ...\n"
     ]
    },
    {
     "name": "stderr",
     "output_type": "stream",
     "text": [
      "C:\\Users\\cpcdoy\\Anaconda3\\lib\\site-packages\\requests\\packages\\urllib3\\connectionpool.py:852: InsecureRequestWarning: Unverified HTTPS request is being made. Adding certificate verification is strongly advised. See: https://urllib3.readthedocs.io/en/latest/advanced-usage.html#ssl-warnings\n",
      "  InsecureRequestWarning)\n"
     ]
    },
    {
     "name": "stdout",
     "output_type": "stream",
     "text": [
      "Retrieving  283 ratios at date  2013-07-01 00:00:00 ...\n"
     ]
    },
    {
     "name": "stderr",
     "output_type": "stream",
     "text": [
      "C:\\Users\\cpcdoy\\Anaconda3\\lib\\site-packages\\requests\\packages\\urllib3\\connectionpool.py:852: InsecureRequestWarning: Unverified HTTPS request is being made. Adding certificate verification is strongly advised. See: https://urllib3.readthedocs.io/en/latest/advanced-usage.html#ssl-warnings\n",
      "  InsecureRequestWarning)\n"
     ]
    },
    {
     "name": "stdout",
     "output_type": "stream",
     "text": [
      "Retrieving  283 ratios at date  2013-08-01 00:00:00 ...\n"
     ]
    },
    {
     "name": "stderr",
     "output_type": "stream",
     "text": [
      "C:\\Users\\cpcdoy\\Anaconda3\\lib\\site-packages\\requests\\packages\\urllib3\\connectionpool.py:852: InsecureRequestWarning: Unverified HTTPS request is being made. Adding certificate verification is strongly advised. See: https://urllib3.readthedocs.io/en/latest/advanced-usage.html#ssl-warnings\n",
      "  InsecureRequestWarning)\n"
     ]
    },
    {
     "name": "stdout",
     "output_type": "stream",
     "text": [
      "Retrieving  283 ratios at date  2013-09-01 00:00:00 ...\n"
     ]
    },
    {
     "name": "stderr",
     "output_type": "stream",
     "text": [
      "C:\\Users\\cpcdoy\\Anaconda3\\lib\\site-packages\\requests\\packages\\urllib3\\connectionpool.py:852: InsecureRequestWarning: Unverified HTTPS request is being made. Adding certificate verification is strongly advised. See: https://urllib3.readthedocs.io/en/latest/advanced-usage.html#ssl-warnings\n",
      "  InsecureRequestWarning)\n"
     ]
    },
    {
     "name": "stdout",
     "output_type": "stream",
     "text": [
      "Retrieving  283 ratios at date  2013-10-01 00:00:00 ...\n"
     ]
    },
    {
     "name": "stderr",
     "output_type": "stream",
     "text": [
      "C:\\Users\\cpcdoy\\Anaconda3\\lib\\site-packages\\requests\\packages\\urllib3\\connectionpool.py:852: InsecureRequestWarning: Unverified HTTPS request is being made. Adding certificate verification is strongly advised. See: https://urllib3.readthedocs.io/en/latest/advanced-usage.html#ssl-warnings\n",
      "  InsecureRequestWarning)\n"
     ]
    },
    {
     "name": "stdout",
     "output_type": "stream",
     "text": [
      "Retrieving  283 ratios at date  2013-11-01 00:00:00 ...\n"
     ]
    },
    {
     "name": "stderr",
     "output_type": "stream",
     "text": [
      "C:\\Users\\cpcdoy\\Anaconda3\\lib\\site-packages\\requests\\packages\\urllib3\\connectionpool.py:852: InsecureRequestWarning: Unverified HTTPS request is being made. Adding certificate verification is strongly advised. See: https://urllib3.readthedocs.io/en/latest/advanced-usage.html#ssl-warnings\n",
      "  InsecureRequestWarning)\n"
     ]
    },
    {
     "name": "stdout",
     "output_type": "stream",
     "text": [
      "Retrieving  283 ratios at date  2013-12-01 00:00:00 ...\n"
     ]
    },
    {
     "name": "stderr",
     "output_type": "stream",
     "text": [
      "C:\\Users\\cpcdoy\\Anaconda3\\lib\\site-packages\\requests\\packages\\urllib3\\connectionpool.py:852: InsecureRequestWarning: Unverified HTTPS request is being made. Adding certificate verification is strongly advised. See: https://urllib3.readthedocs.io/en/latest/advanced-usage.html#ssl-warnings\n",
      "  InsecureRequestWarning)\n"
     ]
    },
    {
     "name": "stdout",
     "output_type": "stream",
     "text": [
      "Retrieving  283 ratios at date  2014-01-01 00:00:00 ...\n"
     ]
    },
    {
     "name": "stderr",
     "output_type": "stream",
     "text": [
      "C:\\Users\\cpcdoy\\Anaconda3\\lib\\site-packages\\requests\\packages\\urllib3\\connectionpool.py:852: InsecureRequestWarning: Unverified HTTPS request is being made. Adding certificate verification is strongly advised. See: https://urllib3.readthedocs.io/en/latest/advanced-usage.html#ssl-warnings\n",
      "  InsecureRequestWarning)\n"
     ]
    },
    {
     "name": "stdout",
     "output_type": "stream",
     "text": [
      "Retrieving  283 ratios at date  2014-02-01 00:00:00 ...\n"
     ]
    },
    {
     "name": "stderr",
     "output_type": "stream",
     "text": [
      "C:\\Users\\cpcdoy\\Anaconda3\\lib\\site-packages\\requests\\packages\\urllib3\\connectionpool.py:852: InsecureRequestWarning: Unverified HTTPS request is being made. Adding certificate verification is strongly advised. See: https://urllib3.readthedocs.io/en/latest/advanced-usage.html#ssl-warnings\n",
      "  InsecureRequestWarning)\n"
     ]
    },
    {
     "name": "stdout",
     "output_type": "stream",
     "text": [
      "Retrieving  283 ratios at date  2014-03-01 00:00:00 ...\n"
     ]
    },
    {
     "name": "stderr",
     "output_type": "stream",
     "text": [
      "C:\\Users\\cpcdoy\\Anaconda3\\lib\\site-packages\\requests\\packages\\urllib3\\connectionpool.py:852: InsecureRequestWarning: Unverified HTTPS request is being made. Adding certificate verification is strongly advised. See: https://urllib3.readthedocs.io/en/latest/advanced-usage.html#ssl-warnings\n",
      "  InsecureRequestWarning)\n"
     ]
    },
    {
     "name": "stdout",
     "output_type": "stream",
     "text": [
      "Retrieving  283 ratios at date  2014-04-01 00:00:00 ...\n"
     ]
    },
    {
     "name": "stderr",
     "output_type": "stream",
     "text": [
      "C:\\Users\\cpcdoy\\Anaconda3\\lib\\site-packages\\requests\\packages\\urllib3\\connectionpool.py:852: InsecureRequestWarning: Unverified HTTPS request is being made. Adding certificate verification is strongly advised. See: https://urllib3.readthedocs.io/en/latest/advanced-usage.html#ssl-warnings\n",
      "  InsecureRequestWarning)\n"
     ]
    },
    {
     "name": "stdout",
     "output_type": "stream",
     "text": [
      "Retrieving  283 ratios at date  2014-05-01 00:00:00 ...\n"
     ]
    },
    {
     "name": "stderr",
     "output_type": "stream",
     "text": [
      "C:\\Users\\cpcdoy\\Anaconda3\\lib\\site-packages\\requests\\packages\\urllib3\\connectionpool.py:852: InsecureRequestWarning: Unverified HTTPS request is being made. Adding certificate verification is strongly advised. See: https://urllib3.readthedocs.io/en/latest/advanced-usage.html#ssl-warnings\n",
      "  InsecureRequestWarning)\n"
     ]
    },
    {
     "name": "stdout",
     "output_type": "stream",
     "text": [
      "Retrieving  283 ratios at date  2014-06-01 00:00:00 ...\n"
     ]
    },
    {
     "name": "stderr",
     "output_type": "stream",
     "text": [
      "C:\\Users\\cpcdoy\\Anaconda3\\lib\\site-packages\\requests\\packages\\urllib3\\connectionpool.py:852: InsecureRequestWarning: Unverified HTTPS request is being made. Adding certificate verification is strongly advised. See: https://urllib3.readthedocs.io/en/latest/advanced-usage.html#ssl-warnings\n",
      "  InsecureRequestWarning)\n"
     ]
    },
    {
     "name": "stdout",
     "output_type": "stream",
     "text": [
      "Retrieving  283 ratios at date  2014-07-01 00:00:00 ...\n"
     ]
    },
    {
     "name": "stderr",
     "output_type": "stream",
     "text": [
      "C:\\Users\\cpcdoy\\Anaconda3\\lib\\site-packages\\requests\\packages\\urllib3\\connectionpool.py:852: InsecureRequestWarning: Unverified HTTPS request is being made. Adding certificate verification is strongly advised. See: https://urllib3.readthedocs.io/en/latest/advanced-usage.html#ssl-warnings\n",
      "  InsecureRequestWarning)\n"
     ]
    },
    {
     "name": "stdout",
     "output_type": "stream",
     "text": [
      "Retrieving  283 ratios at date  2014-08-01 00:00:00 ...\n"
     ]
    },
    {
     "name": "stderr",
     "output_type": "stream",
     "text": [
      "C:\\Users\\cpcdoy\\Anaconda3\\lib\\site-packages\\requests\\packages\\urllib3\\connectionpool.py:852: InsecureRequestWarning: Unverified HTTPS request is being made. Adding certificate verification is strongly advised. See: https://urllib3.readthedocs.io/en/latest/advanced-usage.html#ssl-warnings\n",
      "  InsecureRequestWarning)\n"
     ]
    },
    {
     "name": "stdout",
     "output_type": "stream",
     "text": [
      "Retrieving  283 ratios at date  2014-09-01 00:00:00 ...\n"
     ]
    },
    {
     "name": "stderr",
     "output_type": "stream",
     "text": [
      "C:\\Users\\cpcdoy\\Anaconda3\\lib\\site-packages\\requests\\packages\\urllib3\\connectionpool.py:852: InsecureRequestWarning: Unverified HTTPS request is being made. Adding certificate verification is strongly advised. See: https://urllib3.readthedocs.io/en/latest/advanced-usage.html#ssl-warnings\n",
      "  InsecureRequestWarning)\n"
     ]
    },
    {
     "name": "stdout",
     "output_type": "stream",
     "text": [
      "Retrieving  283 ratios at date  2014-10-01 00:00:00 ...\n"
     ]
    },
    {
     "name": "stderr",
     "output_type": "stream",
     "text": [
      "C:\\Users\\cpcdoy\\Anaconda3\\lib\\site-packages\\requests\\packages\\urllib3\\connectionpool.py:852: InsecureRequestWarning: Unverified HTTPS request is being made. Adding certificate verification is strongly advised. See: https://urllib3.readthedocs.io/en/latest/advanced-usage.html#ssl-warnings\n",
      "  InsecureRequestWarning)\n"
     ]
    },
    {
     "name": "stdout",
     "output_type": "stream",
     "text": [
      "Retrieving  283 ratios at date  2014-11-01 00:00:00 ...\n"
     ]
    },
    {
     "name": "stderr",
     "output_type": "stream",
     "text": [
      "C:\\Users\\cpcdoy\\Anaconda3\\lib\\site-packages\\requests\\packages\\urllib3\\connectionpool.py:852: InsecureRequestWarning: Unverified HTTPS request is being made. Adding certificate verification is strongly advised. See: https://urllib3.readthedocs.io/en/latest/advanced-usage.html#ssl-warnings\n",
      "  InsecureRequestWarning)\n"
     ]
    },
    {
     "name": "stdout",
     "output_type": "stream",
     "text": [
      "Retrieving  283 ratios at date  2014-12-01 00:00:00 ...\n"
     ]
    },
    {
     "name": "stderr",
     "output_type": "stream",
     "text": [
      "C:\\Users\\cpcdoy\\Anaconda3\\lib\\site-packages\\requests\\packages\\urllib3\\connectionpool.py:852: InsecureRequestWarning: Unverified HTTPS request is being made. Adding certificate verification is strongly advised. See: https://urllib3.readthedocs.io/en/latest/advanced-usage.html#ssl-warnings\n",
      "  InsecureRequestWarning)\n"
     ]
    },
    {
     "name": "stdout",
     "output_type": "stream",
     "text": [
      "Retrieving  283 ratios at date  2015-01-01 00:00:00 ...\n"
     ]
    },
    {
     "name": "stderr",
     "output_type": "stream",
     "text": [
      "C:\\Users\\cpcdoy\\Anaconda3\\lib\\site-packages\\requests\\packages\\urllib3\\connectionpool.py:852: InsecureRequestWarning: Unverified HTTPS request is being made. Adding certificate verification is strongly advised. See: https://urllib3.readthedocs.io/en/latest/advanced-usage.html#ssl-warnings\n",
      "  InsecureRequestWarning)\n"
     ]
    },
    {
     "name": "stdout",
     "output_type": "stream",
     "text": [
      "Retrieving  283 ratios at date  2015-02-01 00:00:00 ...\n"
     ]
    },
    {
     "name": "stderr",
     "output_type": "stream",
     "text": [
      "C:\\Users\\cpcdoy\\Anaconda3\\lib\\site-packages\\requests\\packages\\urllib3\\connectionpool.py:852: InsecureRequestWarning: Unverified HTTPS request is being made. Adding certificate verification is strongly advised. See: https://urllib3.readthedocs.io/en/latest/advanced-usage.html#ssl-warnings\n",
      "  InsecureRequestWarning)\n"
     ]
    },
    {
     "name": "stdout",
     "output_type": "stream",
     "text": [
      "Retrieving  283 ratios at date  2015-03-01 00:00:00 ...\n"
     ]
    },
    {
     "name": "stderr",
     "output_type": "stream",
     "text": [
      "C:\\Users\\cpcdoy\\Anaconda3\\lib\\site-packages\\requests\\packages\\urllib3\\connectionpool.py:852: InsecureRequestWarning: Unverified HTTPS request is being made. Adding certificate verification is strongly advised. See: https://urllib3.readthedocs.io/en/latest/advanced-usage.html#ssl-warnings\n",
      "  InsecureRequestWarning)\n"
     ]
    },
    {
     "name": "stdout",
     "output_type": "stream",
     "text": [
      "Retrieving  283 ratios at date  2015-04-01 00:00:00 ...\n"
     ]
    },
    {
     "name": "stderr",
     "output_type": "stream",
     "text": [
      "C:\\Users\\cpcdoy\\Anaconda3\\lib\\site-packages\\requests\\packages\\urllib3\\connectionpool.py:852: InsecureRequestWarning: Unverified HTTPS request is being made. Adding certificate verification is strongly advised. See: https://urllib3.readthedocs.io/en/latest/advanced-usage.html#ssl-warnings\n",
      "  InsecureRequestWarning)\n"
     ]
    },
    {
     "name": "stdout",
     "output_type": "stream",
     "text": [
      "Retrieving  283 ratios at date  2015-05-01 00:00:00 ...\n"
     ]
    },
    {
     "name": "stderr",
     "output_type": "stream",
     "text": [
      "C:\\Users\\cpcdoy\\Anaconda3\\lib\\site-packages\\requests\\packages\\urllib3\\connectionpool.py:852: InsecureRequestWarning: Unverified HTTPS request is being made. Adding certificate verification is strongly advised. See: https://urllib3.readthedocs.io/en/latest/advanced-usage.html#ssl-warnings\n",
      "  InsecureRequestWarning)\n"
     ]
    },
    {
     "name": "stdout",
     "output_type": "stream",
     "text": [
      "Retrieving  283 ratios at date  2015-06-01 00:00:00 ...\n"
     ]
    },
    {
     "name": "stderr",
     "output_type": "stream",
     "text": [
      "C:\\Users\\cpcdoy\\Anaconda3\\lib\\site-packages\\requests\\packages\\urllib3\\connectionpool.py:852: InsecureRequestWarning: Unverified HTTPS request is being made. Adding certificate verification is strongly advised. See: https://urllib3.readthedocs.io/en/latest/advanced-usage.html#ssl-warnings\n",
      "  InsecureRequestWarning)\n"
     ]
    },
    {
     "name": "stdout",
     "output_type": "stream",
     "text": [
      "Retrieving  283 ratios at date  2015-07-01 00:00:00 ...\n"
     ]
    },
    {
     "name": "stderr",
     "output_type": "stream",
     "text": [
      "C:\\Users\\cpcdoy\\Anaconda3\\lib\\site-packages\\requests\\packages\\urllib3\\connectionpool.py:852: InsecureRequestWarning: Unverified HTTPS request is being made. Adding certificate verification is strongly advised. See: https://urllib3.readthedocs.io/en/latest/advanced-usage.html#ssl-warnings\n",
      "  InsecureRequestWarning)\n"
     ]
    },
    {
     "name": "stdout",
     "output_type": "stream",
     "text": [
      "Retrieving  283 ratios at date  2015-08-01 00:00:00 ...\n"
     ]
    },
    {
     "name": "stderr",
     "output_type": "stream",
     "text": [
      "C:\\Users\\cpcdoy\\Anaconda3\\lib\\site-packages\\requests\\packages\\urllib3\\connectionpool.py:852: InsecureRequestWarning: Unverified HTTPS request is being made. Adding certificate verification is strongly advised. See: https://urllib3.readthedocs.io/en/latest/advanced-usage.html#ssl-warnings\n",
      "  InsecureRequestWarning)\n"
     ]
    },
    {
     "name": "stdout",
     "output_type": "stream",
     "text": [
      "Retrieving  283 ratios at date  2015-09-01 00:00:00 ...\n"
     ]
    },
    {
     "name": "stderr",
     "output_type": "stream",
     "text": [
      "C:\\Users\\cpcdoy\\Anaconda3\\lib\\site-packages\\requests\\packages\\urllib3\\connectionpool.py:852: InsecureRequestWarning: Unverified HTTPS request is being made. Adding certificate verification is strongly advised. See: https://urllib3.readthedocs.io/en/latest/advanced-usage.html#ssl-warnings\n",
      "  InsecureRequestWarning)\n"
     ]
    },
    {
     "name": "stdout",
     "output_type": "stream",
     "text": [
      "Retrieving  283 ratios at date  2015-10-01 00:00:00 ...\n"
     ]
    },
    {
     "name": "stderr",
     "output_type": "stream",
     "text": [
      "C:\\Users\\cpcdoy\\Anaconda3\\lib\\site-packages\\requests\\packages\\urllib3\\connectionpool.py:852: InsecureRequestWarning: Unverified HTTPS request is being made. Adding certificate verification is strongly advised. See: https://urllib3.readthedocs.io/en/latest/advanced-usage.html#ssl-warnings\n",
      "  InsecureRequestWarning)\n"
     ]
    },
    {
     "name": "stdout",
     "output_type": "stream",
     "text": [
      "Retrieving  283 ratios at date  2015-11-01 00:00:00 ...\n"
     ]
    },
    {
     "name": "stderr",
     "output_type": "stream",
     "text": [
      "C:\\Users\\cpcdoy\\Anaconda3\\lib\\site-packages\\requests\\packages\\urllib3\\connectionpool.py:852: InsecureRequestWarning: Unverified HTTPS request is being made. Adding certificate verification is strongly advised. See: https://urllib3.readthedocs.io/en/latest/advanced-usage.html#ssl-warnings\n",
      "  InsecureRequestWarning)\n"
     ]
    },
    {
     "name": "stdout",
     "output_type": "stream",
     "text": [
      "Retrieving  283 ratios at date  2015-12-01 00:00:00 ...\n"
     ]
    },
    {
     "name": "stderr",
     "output_type": "stream",
     "text": [
      "C:\\Users\\cpcdoy\\Anaconda3\\lib\\site-packages\\requests\\packages\\urllib3\\connectionpool.py:852: InsecureRequestWarning: Unverified HTTPS request is being made. Adding certificate verification is strongly advised. See: https://urllib3.readthedocs.io/en/latest/advanced-usage.html#ssl-warnings\n",
      "  InsecureRequestWarning)\n"
     ]
    },
    {
     "name": "stdout",
     "output_type": "stream",
     "text": [
      "Retrieving  283 ratios at date  2016-01-01 00:00:00 ...\n"
     ]
    },
    {
     "name": "stderr",
     "output_type": "stream",
     "text": [
      "C:\\Users\\cpcdoy\\Anaconda3\\lib\\site-packages\\requests\\packages\\urllib3\\connectionpool.py:852: InsecureRequestWarning: Unverified HTTPS request is being made. Adding certificate verification is strongly advised. See: https://urllib3.readthedocs.io/en/latest/advanced-usage.html#ssl-warnings\n",
      "  InsecureRequestWarning)\n"
     ]
    },
    {
     "name": "stdout",
     "output_type": "stream",
     "text": [
      "Retrieving  283 ratios at date  2016-02-01 00:00:00 ...\n"
     ]
    },
    {
     "name": "stderr",
     "output_type": "stream",
     "text": [
      "C:\\Users\\cpcdoy\\Anaconda3\\lib\\site-packages\\requests\\packages\\urllib3\\connectionpool.py:852: InsecureRequestWarning: Unverified HTTPS request is being made. Adding certificate verification is strongly advised. See: https://urllib3.readthedocs.io/en/latest/advanced-usage.html#ssl-warnings\n",
      "  InsecureRequestWarning)\n"
     ]
    },
    {
     "name": "stdout",
     "output_type": "stream",
     "text": [
      "Retrieving  283 ratios at date  2016-03-01 00:00:00 ...\n"
     ]
    },
    {
     "name": "stderr",
     "output_type": "stream",
     "text": [
      "C:\\Users\\cpcdoy\\Anaconda3\\lib\\site-packages\\requests\\packages\\urllib3\\connectionpool.py:852: InsecureRequestWarning: Unverified HTTPS request is being made. Adding certificate verification is strongly advised. See: https://urllib3.readthedocs.io/en/latest/advanced-usage.html#ssl-warnings\n",
      "  InsecureRequestWarning)\n"
     ]
    },
    {
     "name": "stdout",
     "output_type": "stream",
     "text": [
      "Retrieving  283 ratios at date  2016-04-01 00:00:00 ...\n"
     ]
    },
    {
     "name": "stderr",
     "output_type": "stream",
     "text": [
      "C:\\Users\\cpcdoy\\Anaconda3\\lib\\site-packages\\requests\\packages\\urllib3\\connectionpool.py:852: InsecureRequestWarning: Unverified HTTPS request is being made. Adding certificate verification is strongly advised. See: https://urllib3.readthedocs.io/en/latest/advanced-usage.html#ssl-warnings\n",
      "  InsecureRequestWarning)\n"
     ]
    },
    {
     "name": "stdout",
     "output_type": "stream",
     "text": [
      "Retrieving  283 ratios at date  2016-05-01 00:00:00 ...\n"
     ]
    },
    {
     "name": "stderr",
     "output_type": "stream",
     "text": [
      "C:\\Users\\cpcdoy\\Anaconda3\\lib\\site-packages\\requests\\packages\\urllib3\\connectionpool.py:852: InsecureRequestWarning: Unverified HTTPS request is being made. Adding certificate verification is strongly advised. See: https://urllib3.readthedocs.io/en/latest/advanced-usage.html#ssl-warnings\n",
      "  InsecureRequestWarning)\n"
     ]
    },
    {
     "name": "stdout",
     "output_type": "stream",
     "text": [
      "Retrieving  283 ratios at date  2016-06-01 00:00:00 ...\n"
     ]
    },
    {
     "name": "stderr",
     "output_type": "stream",
     "text": [
      "C:\\Users\\cpcdoy\\Anaconda3\\lib\\site-packages\\requests\\packages\\urllib3\\connectionpool.py:852: InsecureRequestWarning: Unverified HTTPS request is being made. Adding certificate verification is strongly advised. See: https://urllib3.readthedocs.io/en/latest/advanced-usage.html#ssl-warnings\n",
      "  InsecureRequestWarning)\n"
     ]
    },
    {
     "name": "stdout",
     "output_type": "stream",
     "text": [
      "Retrieving  283 ratios at date  2016-07-01 00:00:00 ...\n"
     ]
    },
    {
     "name": "stderr",
     "output_type": "stream",
     "text": [
      "C:\\Users\\cpcdoy\\Anaconda3\\lib\\site-packages\\requests\\packages\\urllib3\\connectionpool.py:852: InsecureRequestWarning: Unverified HTTPS request is being made. Adding certificate verification is strongly advised. See: https://urllib3.readthedocs.io/en/latest/advanced-usage.html#ssl-warnings\n",
      "  InsecureRequestWarning)\n"
     ]
    },
    {
     "name": "stdout",
     "output_type": "stream",
     "text": [
      "Retrieving  283 ratios at date  2016-08-01 00:00:00 ...\n"
     ]
    },
    {
     "name": "stderr",
     "output_type": "stream",
     "text": [
      "C:\\Users\\cpcdoy\\Anaconda3\\lib\\site-packages\\requests\\packages\\urllib3\\connectionpool.py:852: InsecureRequestWarning: Unverified HTTPS request is being made. Adding certificate verification is strongly advised. See: https://urllib3.readthedocs.io/en/latest/advanced-usage.html#ssl-warnings\n",
      "  InsecureRequestWarning)\n"
     ]
    },
    {
     "name": "stdout",
     "output_type": "stream",
     "text": [
      "Retrieving  283 ratios at date  2016-09-01 00:00:00 ...\n"
     ]
    },
    {
     "name": "stderr",
     "output_type": "stream",
     "text": [
      "C:\\Users\\cpcdoy\\Anaconda3\\lib\\site-packages\\requests\\packages\\urllib3\\connectionpool.py:852: InsecureRequestWarning: Unverified HTTPS request is being made. Adding certificate verification is strongly advised. See: https://urllib3.readthedocs.io/en/latest/advanced-usage.html#ssl-warnings\n",
      "  InsecureRequestWarning)\n"
     ]
    },
    {
     "name": "stdout",
     "output_type": "stream",
     "text": [
      "Retrieving  283 ratios at date  2016-10-01 00:00:00 ...\n"
     ]
    },
    {
     "name": "stderr",
     "output_type": "stream",
     "text": [
      "C:\\Users\\cpcdoy\\Anaconda3\\lib\\site-packages\\requests\\packages\\urllib3\\connectionpool.py:852: InsecureRequestWarning: Unverified HTTPS request is being made. Adding certificate verification is strongly advised. See: https://urllib3.readthedocs.io/en/latest/advanced-usage.html#ssl-warnings\n",
      "  InsecureRequestWarning)\n"
     ]
    },
    {
     "name": "stdout",
     "output_type": "stream",
     "text": [
      "Retrieving  283 ratios at date  2016-11-01 00:00:00 ...\n"
     ]
    },
    {
     "name": "stderr",
     "output_type": "stream",
     "text": [
      "C:\\Users\\cpcdoy\\Anaconda3\\lib\\site-packages\\requests\\packages\\urllib3\\connectionpool.py:852: InsecureRequestWarning: Unverified HTTPS request is being made. Adding certificate verification is strongly advised. See: https://urllib3.readthedocs.io/en/latest/advanced-usage.html#ssl-warnings\n",
      "  InsecureRequestWarning)\n"
     ]
    },
    {
     "name": "stdout",
     "output_type": "stream",
     "text": [
      "Retrieving  283 ratios at date  2016-12-01 00:00:00 ...\n"
     ]
    },
    {
     "name": "stderr",
     "output_type": "stream",
     "text": [
      "C:\\Users\\cpcdoy\\Anaconda3\\lib\\site-packages\\requests\\packages\\urllib3\\connectionpool.py:852: InsecureRequestWarning: Unverified HTTPS request is being made. Adding certificate verification is strongly advised. See: https://urllib3.readthedocs.io/en/latest/advanced-usage.html#ssl-warnings\n",
      "  InsecureRequestWarning)\n"
     ]
    },
    {
     "name": "stdout",
     "output_type": "stream",
     "text": [
      "Retrieving  283 ratios at date  2017-01-01 00:00:00 ...\n"
     ]
    },
    {
     "name": "stderr",
     "output_type": "stream",
     "text": [
      "C:\\Users\\cpcdoy\\Anaconda3\\lib\\site-packages\\requests\\packages\\urllib3\\connectionpool.py:852: InsecureRequestWarning: Unverified HTTPS request is being made. Adding certificate verification is strongly advised. See: https://urllib3.readthedocs.io/en/latest/advanced-usage.html#ssl-warnings\n",
      "  InsecureRequestWarning)\n"
     ]
    },
    {
     "name": "stdout",
     "output_type": "stream",
     "text": [
      "Retrieving  283 ratios at date  2017-02-01 00:00:00 ...\n"
     ]
    },
    {
     "name": "stderr",
     "output_type": "stream",
     "text": [
      "C:\\Users\\cpcdoy\\Anaconda3\\lib\\site-packages\\requests\\packages\\urllib3\\connectionpool.py:852: InsecureRequestWarning: Unverified HTTPS request is being made. Adding certificate verification is strongly advised. See: https://urllib3.readthedocs.io/en/latest/advanced-usage.html#ssl-warnings\n",
      "  InsecureRequestWarning)\n"
     ]
    },
    {
     "name": "stdout",
     "output_type": "stream",
     "text": [
      "Retrieving  283 ratios at date  2017-03-01 00:00:00 ...\n"
     ]
    },
    {
     "name": "stderr",
     "output_type": "stream",
     "text": [
      "C:\\Users\\cpcdoy\\Anaconda3\\lib\\site-packages\\requests\\packages\\urllib3\\connectionpool.py:852: InsecureRequestWarning: Unverified HTTPS request is being made. Adding certificate verification is strongly advised. See: https://urllib3.readthedocs.io/en/latest/advanced-usage.html#ssl-warnings\n",
      "  InsecureRequestWarning)\n"
     ]
    },
    {
     "name": "stdout",
     "output_type": "stream",
     "text": [
      "Retrieving  283 ratios at date  2017-04-01 00:00:00 ...\n"
     ]
    },
    {
     "name": "stderr",
     "output_type": "stream",
     "text": [
      "C:\\Users\\cpcdoy\\Anaconda3\\lib\\site-packages\\requests\\packages\\urllib3\\connectionpool.py:852: InsecureRequestWarning: Unverified HTTPS request is being made. Adding certificate verification is strongly advised. See: https://urllib3.readthedocs.io/en/latest/advanced-usage.html#ssl-warnings\n",
      "  InsecureRequestWarning)\n"
     ]
    },
    {
     "name": "stdout",
     "output_type": "stream",
     "text": [
      "Retrieving  283 ratios at date  2017-05-01 00:00:00 ...\n"
     ]
    },
    {
     "name": "stderr",
     "output_type": "stream",
     "text": [
      "C:\\Users\\cpcdoy\\Anaconda3\\lib\\site-packages\\requests\\packages\\urllib3\\connectionpool.py:852: InsecureRequestWarning: Unverified HTTPS request is being made. Adding certificate verification is strongly advised. See: https://urllib3.readthedocs.io/en/latest/advanced-usage.html#ssl-warnings\n",
      "  InsecureRequestWarning)\n"
     ]
    },
    {
     "name": "stdout",
     "output_type": "stream",
     "text": [
      "Retrieving  283 ratios at date  2017-06-01 00:00:00 ...\n"
     ]
    },
    {
     "name": "stderr",
     "output_type": "stream",
     "text": [
      "C:\\Users\\cpcdoy\\Anaconda3\\lib\\site-packages\\requests\\packages\\urllib3\\connectionpool.py:852: InsecureRequestWarning: Unverified HTTPS request is being made. Adding certificate verification is strongly advised. See: https://urllib3.readthedocs.io/en/latest/advanced-usage.html#ssl-warnings\n",
      "  InsecureRequestWarning)\n"
     ]
    }
   ],
   "source": [
    "p_m = portfolio_manager((2012, 1, 1), (2017, 6, 1), 20)"
   ]
  },
  {
   "cell_type": "markdown",
   "metadata": {},
   "source": [
    "## Choose the 20 best assets among all the ones we have"
   ]
  },
  {
   "cell_type": "code",
   "execution_count": 11,
   "metadata": {
    "collapsed": false,
    "scrolled": true
   },
   "outputs": [
    {
     "name": "stdout",
     "output_type": "stream",
     "text": [
      "(65, 283)\n",
      "65\n",
      "20\n",
      "283\n",
      "max 65\n",
      "[390  14 370 380 500 391 482 238 233 358 341 539 117 492 476 376 461 320\n",
      " 268 319 456 225 443 489 403 262 190 336 449 103 116 462 353 166 291 308\n",
      " 349 235 470 480 106 139 532 364 450 168  31 402 356 473  27 542 373 529\n",
      " 371 453 176 377 359 475 282 173 394  33 122 395 306 389 519 368  24  35\n",
      " 410   6  45 411 198 425  72 485  30 441 530 348 465 527 213 408 426 409\n",
      " 314 263 135 193 558 217 413 111 493 444 357 399 543 182 351 514 414 494\n",
      " 468  64 321 520 552 528 460 547 518 152 247 533 393 355 523 202 404 113\n",
      " 366 553 379 110 488 346 455 419 486 536 540 207 544 531 401 501 146 498\n",
      "  26 446 147  22  53  19 115 170 322 292 483 497 526 416  68 118 490 517\n",
      "   8 169 471  65 189 331  98  29 383 179 541 557 448 477 466 550 200  93\n",
      " 332 123 155 175 429 484  10 467 447 252 481 226 423 145 421   7 507 538\n",
      "  82 427 549 342 438 525 188  25 367 212 109  69 405 463 392 515 352 339\n",
      " 381 208 388   4 343 433 144 508 374 479 548 521 440 112 522 534 496 535\n",
      " 102  61 406 478 417 104 575 185  32 505 347 445 378 556 509 511 452 386\n",
      " 545 183  97  54 140 437 365  34  13 167 451 512 516  66 442  81   9 457\n",
      "  28 412 396 537 439 499 384  11  67 422 546 491 420]\n",
      "[ 66 214 162 264 146 221  68   7 167 275  46  14  87  35 194  47 279   6\n",
      "  97 200]\n",
      "2012-01-01\n",
      "2017-06-01\n"
     ]
    },
    {
     "name": "stderr",
     "output_type": "stream",
     "text": [
      "C:\\Users\\cpcdoy\\Anaconda3\\lib\\site-packages\\requests\\packages\\urllib3\\connectionpool.py:852: InsecureRequestWarning: Unverified HTTPS request is being made. Adding certificate verification is strongly advised. See: https://urllib3.readthedocs.io/en/latest/advanced-usage.html#ssl-warnings\n",
      "  InsecureRequestWarning)\n"
     ]
    },
    {
     "name": "stdout",
     "output_type": "stream",
     "text": [
      "id 66 306 1385\n"
     ]
    },
    {
     "name": "stderr",
     "output_type": "stream",
     "text": [
      "C:\\Users\\cpcdoy\\Anaconda3\\lib\\site-packages\\requests\\packages\\urllib3\\connectionpool.py:852: InsecureRequestWarning: Unverified HTTPS request is being made. Adding certificate verification is strongly advised. See: https://urllib3.readthedocs.io/en/latest/advanced-usage.html#ssl-warnings\n",
      "  InsecureRequestWarning)\n"
     ]
    },
    {
     "name": "stdout",
     "output_type": "stream",
     "text": [
      "id 214 352 1340\n"
     ]
    },
    {
     "name": "stderr",
     "output_type": "stream",
     "text": [
      "C:\\Users\\cpcdoy\\Anaconda3\\lib\\site-packages\\requests\\packages\\urllib3\\connectionpool.py:852: InsecureRequestWarning: Unverified HTTPS request is being made. Adding certificate verification is strongly advised. See: https://urllib3.readthedocs.io/en/latest/advanced-usage.html#ssl-warnings\n",
      "  InsecureRequestWarning)\n"
     ]
    },
    {
     "name": "stdout",
     "output_type": "stream",
     "text": [
      "id 162 8 1385\n"
     ]
    },
    {
     "name": "stderr",
     "output_type": "stream",
     "text": [
      "C:\\Users\\cpcdoy\\Anaconda3\\lib\\site-packages\\requests\\packages\\urllib3\\connectionpool.py:852: InsecureRequestWarning: Unverified HTTPS request is being made. Adding certificate verification is strongly advised. See: https://urllib3.readthedocs.io/en/latest/advanced-usage.html#ssl-warnings\n",
      "  InsecureRequestWarning)\n"
     ]
    },
    {
     "name": "stdout",
     "output_type": "stream",
     "text": [
      "id 264 516 1368\n"
     ]
    },
    {
     "name": "stderr",
     "output_type": "stream",
     "text": [
      "C:\\Users\\cpcdoy\\Anaconda3\\lib\\site-packages\\requests\\packages\\urllib3\\connectionpool.py:852: InsecureRequestWarning: Unverified HTTPS request is being made. Adding certificate verification is strongly advised. See: https://urllib3.readthedocs.io/en/latest/advanced-usage.html#ssl-warnings\n",
      "  InsecureRequestWarning)\n"
     ]
    },
    {
     "name": "stdout",
     "output_type": "stream",
     "text": [
      "id 146 147 1373\n"
     ]
    },
    {
     "name": "stderr",
     "output_type": "stream",
     "text": [
      "C:\\Users\\cpcdoy\\Anaconda3\\lib\\site-packages\\requests\\packages\\urllib3\\connectionpool.py:852: InsecureRequestWarning: Unverified HTTPS request is being made. Adding certificate verification is strongly advised. See: https://urllib3.readthedocs.io/en/latest/advanced-usage.html#ssl-warnings\n",
      "  InsecureRequestWarning)\n"
     ]
    },
    {
     "name": "stdout",
     "output_type": "stream",
     "text": [
      "id 221 433 1354\n"
     ]
    },
    {
     "name": "stderr",
     "output_type": "stream",
     "text": [
      "C:\\Users\\cpcdoy\\Anaconda3\\lib\\site-packages\\requests\\packages\\urllib3\\connectionpool.py:852: InsecureRequestWarning: Unverified HTTPS request is being made. Adding certificate verification is strongly advised. See: https://urllib3.readthedocs.io/en/latest/advanced-usage.html#ssl-warnings\n",
      "  InsecureRequestWarning)\n"
     ]
    },
    {
     "name": "stdout",
     "output_type": "stream",
     "text": [
      "id 68 519 1376\n"
     ]
    },
    {
     "name": "stderr",
     "output_type": "stream",
     "text": [
      "C:\\Users\\cpcdoy\\Anaconda3\\lib\\site-packages\\requests\\packages\\urllib3\\connectionpool.py:852: InsecureRequestWarning: Unverified HTTPS request is being made. Adding certificate verification is strongly advised. See: https://urllib3.readthedocs.io/en/latest/advanced-usage.html#ssl-warnings\n",
      "  InsecureRequestWarning)\n"
     ]
    },
    {
     "name": "stdout",
     "output_type": "stream",
     "text": [
      "id 7 238 1373\n"
     ]
    },
    {
     "name": "stderr",
     "output_type": "stream",
     "text": [
      "C:\\Users\\cpcdoy\\Anaconda3\\lib\\site-packages\\requests\\packages\\urllib3\\connectionpool.py:852: InsecureRequestWarning: Unverified HTTPS request is being made. Adding certificate verification is strongly advised. See: https://urllib3.readthedocs.io/en/latest/advanced-usage.html#ssl-warnings\n",
      "  InsecureRequestWarning)\n"
     ]
    },
    {
     "name": "stdout",
     "output_type": "stream",
     "text": [
      "id 167 331 1373\n"
     ]
    },
    {
     "name": "stderr",
     "output_type": "stream",
     "text": [
      "C:\\Users\\cpcdoy\\Anaconda3\\lib\\site-packages\\requests\\packages\\urllib3\\connectionpool.py:852: InsecureRequestWarning: Unverified HTTPS request is being made. Adding certificate verification is strongly advised. See: https://urllib3.readthedocs.io/en/latest/advanced-usage.html#ssl-warnings\n",
      "  InsecureRequestWarning)\n"
     ]
    },
    {
     "name": "stdout",
     "output_type": "stream",
     "text": [
      "id 275 499 1362\n"
     ]
    },
    {
     "name": "stderr",
     "output_type": "stream",
     "text": [
      "C:\\Users\\cpcdoy\\Anaconda3\\lib\\site-packages\\requests\\packages\\urllib3\\connectionpool.py:852: InsecureRequestWarning: Unverified HTTPS request is being made. Adding certificate verification is strongly advised. See: https://urllib3.readthedocs.io/en/latest/advanced-usage.html#ssl-warnings\n",
      "  InsecureRequestWarning)\n"
     ]
    },
    {
     "name": "stdout",
     "output_type": "stream",
     "text": [
      "id 46 31 1385\n"
     ]
    },
    {
     "name": "stderr",
     "output_type": "stream",
     "text": [
      "C:\\Users\\cpcdoy\\Anaconda3\\lib\\site-packages\\requests\\packages\\urllib3\\connectionpool.py:852: InsecureRequestWarning: Unverified HTTPS request is being made. Adding certificate verification is strongly advised. See: https://urllib3.readthedocs.io/en/latest/advanced-usage.html#ssl-warnings\n",
      "  InsecureRequestWarning)\n"
     ]
    },
    {
     "name": "stdout",
     "output_type": "stream",
     "text": [
      "id 14 476 1360\n"
     ]
    },
    {
     "name": "stderr",
     "output_type": "stream",
     "text": [
      "C:\\Users\\cpcdoy\\Anaconda3\\lib\\site-packages\\requests\\packages\\urllib3\\connectionpool.py:852: InsecureRequestWarning: Unverified HTTPS request is being made. Adding certificate verification is strongly advised. See: https://urllib3.readthedocs.io/en/latest/advanced-usage.html#ssl-warnings\n",
      "  InsecureRequestWarning)\n"
     ]
    },
    {
     "name": "stdout",
     "output_type": "stream",
     "text": [
      "id 87 408 1357\n"
     ]
    },
    {
     "name": "stderr",
     "output_type": "stream",
     "text": [
      "C:\\Users\\cpcdoy\\Anaconda3\\lib\\site-packages\\requests\\packages\\urllib3\\connectionpool.py:852: InsecureRequestWarning: Unverified HTTPS request is being made. Adding certificate verification is strongly advised. See: https://urllib3.readthedocs.io/en/latest/advanced-usage.html#ssl-warnings\n",
      "  InsecureRequestWarning)\n"
     ]
    },
    {
     "name": "stdout",
     "output_type": "stream",
     "text": [
      "id 35 308 1376\n"
     ]
    },
    {
     "name": "stderr",
     "output_type": "stream",
     "text": [
      "C:\\Users\\cpcdoy\\Anaconda3\\lib\\site-packages\\requests\\packages\\urllib3\\connectionpool.py:852: InsecureRequestWarning: Unverified HTTPS request is being made. Adding certificate verification is strongly advised. See: https://urllib3.readthedocs.io/en/latest/advanced-usage.html#ssl-warnings\n",
      "  InsecureRequestWarning)\n"
     ]
    },
    {
     "name": "stdout",
     "output_type": "stream",
     "text": [
      "id 194 421 1355\n"
     ]
    },
    {
     "name": "stderr",
     "output_type": "stream",
     "text": [
      "C:\\Users\\cpcdoy\\Anaconda3\\lib\\site-packages\\requests\\packages\\urllib3\\connectionpool.py:852: InsecureRequestWarning: Unverified HTTPS request is being made. Adding certificate verification is strongly advised. See: https://urllib3.readthedocs.io/en/latest/advanced-usage.html#ssl-warnings\n",
      "  InsecureRequestWarning)\n"
     ]
    },
    {
     "name": "stdout",
     "output_type": "stream",
     "text": [
      "id 47 402 1321\n"
     ]
    },
    {
     "name": "stderr",
     "output_type": "stream",
     "text": [
      "C:\\Users\\cpcdoy\\Anaconda3\\lib\\site-packages\\requests\\packages\\urllib3\\connectionpool.py:852: InsecureRequestWarning: Unverified HTTPS request is being made. Adding certificate verification is strongly advised. See: https://urllib3.readthedocs.io/en/latest/advanced-usage.html#ssl-warnings\n",
      "  InsecureRequestWarning)\n"
     ]
    },
    {
     "name": "stdout",
     "output_type": "stream",
     "text": [
      "id 279 422 1350\n"
     ]
    },
    {
     "name": "stderr",
     "output_type": "stream",
     "text": [
      "C:\\Users\\cpcdoy\\Anaconda3\\lib\\site-packages\\requests\\packages\\urllib3\\connectionpool.py:852: InsecureRequestWarning: Unverified HTTPS request is being made. Adding certificate verification is strongly advised. See: https://urllib3.readthedocs.io/en/latest/advanced-usage.html#ssl-warnings\n",
      "  InsecureRequestWarning)\n"
     ]
    },
    {
     "name": "stdout",
     "output_type": "stream",
     "text": [
      "id 6 482 1350\n"
     ]
    },
    {
     "name": "stderr",
     "output_type": "stream",
     "text": [
      "C:\\Users\\cpcdoy\\Anaconda3\\lib\\site-packages\\requests\\packages\\urllib3\\connectionpool.py:852: InsecureRequestWarning: Unverified HTTPS request is being made. Adding certificate verification is strongly advised. See: https://urllib3.readthedocs.io/en/latest/advanced-usage.html#ssl-warnings\n",
      "  InsecureRequestWarning)\n"
     ]
    },
    {
     "name": "stdout",
     "output_type": "stream",
     "text": [
      "id 97 111 1358\n"
     ]
    },
    {
     "name": "stderr",
     "output_type": "stream",
     "text": [
      "C:\\Users\\cpcdoy\\Anaconda3\\lib\\site-packages\\requests\\packages\\urllib3\\connectionpool.py:852: InsecureRequestWarning: Unverified HTTPS request is being made. Adding certificate verification is strongly advised. See: https://urllib3.readthedocs.io/en/latest/advanced-usage.html#ssl-warnings\n",
      "  InsecureRequestWarning)\n"
     ]
    },
    {
     "name": "stdout",
     "output_type": "stream",
     "text": [
      "id 200 549 1353\n",
      "[[  1.00667302e-01   7.21179989e-02   2.91139241e-02 ...,   3.99890722e-02\n",
      "    1.66666667e-01   4.11141514e-02]\n",
      " [  2.69846797e-02   4.44143621e-02   5.38299715e-02 ...,   2.84070240e-02\n",
      "   -9.70496894e-03   5.18386633e-02]\n",
      " [ -1.06701031e-01   1.52245473e-02  -8.93069779e-02 ...,   3.25606886e-03\n",
      "    9.44272446e-02  -2.16421826e-03]\n",
      " ..., \n",
      " [ -4.22924901e-02   1.58185035e-02   7.75770457e-03 ...,   1.17161061e-02\n",
      "    3.33814136e-02   3.79072835e-02]\n",
      " [ -8.21295914e-02   8.36662910e-03  -5.16714120e-03 ...,   1.26415834e-02\n",
      "    1.14656032e-01   1.20487598e-02]\n",
      " [ -7.13429257e-02  -3.72527770e-03   1.05999576e-04 ...,   1.16408866e-02\n",
      "   -3.48837209e-02   2.23224666e-02]]\n",
      "283\n"
     ]
    }
   ],
   "source": [
    "p_m.choose_best_assets(0)"
   ]
  },
  {
   "cell_type": "markdown",
   "metadata": {},
   "source": [
    "## Compute the means and covariance matrix"
   ]
  },
  {
   "cell_type": "code",
   "execution_count": 12,
   "metadata": {
    "collapsed": false,
    "scrolled": true
   },
   "outputs": [
    {
     "name": "stdout",
     "output_type": "stream",
     "text": [
      "(20,)\n",
      "Computing means and cov for 20 assets\n",
      "(65, 20)\n",
      "(1385,)\n",
      "ass 0\n",
      "mean 0.000260405075263\n",
      "(1340,)\n",
      "ass 1\n",
      "mean 0.000551866886479\n",
      "(1385,)\n",
      "ass 2\n",
      "mean 0.000237090549214\n",
      "(1368,)\n",
      "ass 3\n",
      "mean 0.000208322427335\n",
      "(1373,)\n",
      "ass 4\n",
      "mean 0.000711970394128\n",
      "(1354,)\n",
      "ass 5\n",
      "mean 0.000604664968569\n",
      "(1376,)\n",
      "ass 6\n",
      "mean 0.000563073329919\n",
      "(1373,)\n",
      "ass 7\n",
      "mean 0.000697491214773\n",
      "(1373,)\n",
      "ass 8\n",
      "mean -0.000200538204716\n",
      "(1362,)\n",
      "ass 9\n",
      "mean 0.00075790503524\n",
      "(1385,)\n",
      "ass 10\n",
      "mean 0.000983294578413\n",
      "(1360,)\n",
      "ass 11\n",
      "mean 0.000680892300381\n",
      "(1357,)\n",
      "ass 12\n",
      "mean 0.00038790612882\n",
      "(1376,)\n",
      "ass 13\n",
      "mean 0.000762121456937\n",
      "(1355,)\n",
      "ass 14\n",
      "mean 0.000937927019374\n",
      "(1321,)\n",
      "ass 15\n",
      "mean -0.000420155656581\n",
      "(1350,)\n",
      "ass 16\n",
      "mean 0.00025753861682\n",
      "(1350,)\n",
      "ass 17\n",
      "mean 0.000317380231063\n",
      "(1358,)\n",
      "ass 18\n",
      "mean 0.000794841976639\n",
      "(1353,)\n",
      "ass 19\n",
      "mean 0.000371405512913\n",
      "1321\n",
      "(20,)\n",
      "Computing means and cov for 20 assets\n",
      "(65, 20)\n",
      "(1385,)\n",
      "ass 0\n",
      "mean 0.000260405075263\n",
      "(1340,)\n",
      "ass 1\n",
      "mean 0.000551866886479\n",
      "(1385,)\n",
      "ass 2\n",
      "mean 0.000237090549214\n",
      "(1368,)\n",
      "ass 3\n",
      "mean 0.000208322427335\n",
      "(1373,)\n",
      "ass 4\n",
      "mean 0.000711970394128\n",
      "(1354,)\n",
      "ass 5\n",
      "mean 0.000604664968569\n",
      "(1376,)\n",
      "ass 6\n",
      "mean 0.000563073329919\n",
      "(1373,)\n",
      "ass 7\n",
      "mean 0.000697491214773\n",
      "(1373,)\n",
      "ass 8\n",
      "mean -0.000200538204716\n",
      "(1362,)\n",
      "ass 9\n",
      "mean 0.00075790503524\n",
      "(1385,)\n",
      "ass 10\n",
      "mean 0.000983294578413\n",
      "(1360,)\n",
      "ass 11\n",
      "mean 0.000680892300381\n",
      "(1357,)\n",
      "ass 12\n",
      "mean 0.00038790612882\n",
      "(1376,)\n",
      "ass 13\n",
      "mean 0.000762121456937\n",
      "(1355,)\n",
      "ass 14\n",
      "mean 0.000937927019374\n",
      "(1321,)\n",
      "ass 15\n",
      "mean -0.000420155656581\n",
      "(1350,)\n",
      "ass 16\n",
      "mean 0.00025753861682\n",
      "(1350,)\n",
      "ass 17\n",
      "mean 0.000317380231063\n",
      "(1358,)\n",
      "ass 18\n",
      "mean 0.000794841976639\n",
      "(1353,)\n",
      "ass 19\n",
      "mean 0.000371405512913\n",
      "1321\n",
      "20\n",
      "(20, 20)\n"
     ]
    }
   ],
   "source": [
    "means, cov = p_m.compute_means_and_cov()\n",
    "p_m.precompute_data()"
   ]
  },
  {
   "cell_type": "markdown",
   "metadata": {},
   "source": [
    "## Compute many (N = 1000) possible portfolios on the efficient frontier following Markowitz's theory and convex optimization"
   ]
  },
  {
   "cell_type": "code",
   "execution_count": 13,
   "metadata": {
    "collapsed": false,
    "scrolled": false
   },
   "outputs": [],
   "source": [
    "N = 1000\n",
    "mus = [10**(5.0 * i / N - 1.0) for i in range(N)]\n",
    "s = [p_m.find_portfolio(mus[i]) for i in range(N)]\n",
    "s = np.array(s)"
   ]
  },
  {
   "cell_type": "code",
   "execution_count": 14,
   "metadata": {
    "collapsed": false,
    "scrolled": false
   },
   "outputs": [],
   "source": [
    "R = [np.dot(means, s[i]) for i in range(N)]\n",
    "R = np.array(R).flatten()"
   ]
  },
  {
   "cell_type": "markdown",
   "metadata": {},
   "source": [
    "## Take nearest positive semi-definite covariance matrix to avoid precisions errors"
   ]
  },
  {
   "cell_type": "code",
   "execution_count": 15,
   "metadata": {
    "collapsed": true,
    "scrolled": false
   },
   "outputs": [],
   "source": [
    "def nearPSD(A,epsilon=0):\n",
    "   n = A.shape[0]\n",
    "   eigval, eigvec = np.linalg.eig(A)\n",
    "   val = np.matrix(np.maximum(eigval,epsilon))\n",
    "   vec = np.matrix(eigvec)\n",
    "   T = 1/(np.multiply(vec,vec) * val.T)\n",
    "   T = np.matrix(np.sqrt(np.diag(np.array(T).reshape((n)) )))\n",
    "   B = T * vec * np.diag(np.array(np.sqrt(val)).reshape((n)))\n",
    "   out = B*B.T\n",
    "   return(out)"
   ]
  },
  {
   "cell_type": "code",
   "execution_count": 16,
   "metadata": {
    "collapsed": false,
    "scrolled": false
   },
   "outputs": [],
   "source": [
    "cov = np.real(nearPSD(cov))"
   ]
  },
  {
   "cell_type": "code",
   "execution_count": 17,
   "metadata": {
    "collapsed": false,
    "scrolled": false
   },
   "outputs": [],
   "source": [
    "sigma = [np.sqrt(np.dot(s[i].T, np.dot(cov, s[i]))) for i in range(N)]\n",
    "sigma = np.array(sigma).flatten()"
   ]
  },
  {
   "cell_type": "markdown",
   "metadata": {},
   "source": [
    "## Fit all the portfolios on the efficient frontier on a 2nd order polynomial and compute a convex optimization to find the absolute best portfolio"
   ]
  },
  {
   "cell_type": "code",
   "execution_count": 18,
   "metadata": {
    "collapsed": false,
    "scrolled": false
   },
   "outputs": [],
   "source": [
    "def opt_port(self, sigma, R):\n",
    "    m = np.polyfit(R, sigma, 2)\n",
    "    #print(m)\n",
    "    x = np.sqrt(m[2] / m[0])\n",
    "    #print((x * cov))\n",
    "    s = cvxopt.solvers.qp(cvxopt.matrix(x * cov), -cvxopt.matrix(self.assets_means), self.G, self.h, self.A, self.b)['x']\n",
    "    return np.array(s)\n",
    "portfolio_manager.opt_port = opt_port"
   ]
  },
  {
   "cell_type": "markdown",
   "metadata": {},
   "source": [
    "## We have 10 000 000 EUR at our disposal"
   ]
  },
  {
   "cell_type": "code",
   "execution_count": 19,
   "metadata": {
    "collapsed": true,
    "scrolled": true
   },
   "outputs": [],
   "source": [
    "money = 1e7"
   ]
  },
  {
   "cell_type": "code",
   "execution_count": 20,
   "metadata": {
    "collapsed": false,
    "scrolled": false
   },
   "outputs": [
    {
     "name": "stdout",
     "output_type": "stream",
     "text": [
      "[[ 100005.24784031]\n",
      " [ 385971.42081049]\n",
      " [ 100004.84664616]\n",
      " [ 100005.11584381]\n",
      " [ 999863.55197254]\n",
      " [ 397985.00823076]\n",
      " [ 316479.33096546]\n",
      " [ 999814.95921756]\n",
      " [ 100001.57726891]\n",
      " [ 999984.1448374 ]\n",
      " [ 999996.6085065 ]\n",
      " [ 999881.75898068]\n",
      " [ 100005.94891576]\n",
      " [ 999993.17745004]\n",
      " [ 999996.25799967]\n",
      " [ 100001.44307276]\n",
      " [ 100005.48576253]\n",
      " [ 100006.46310409]\n",
      " [ 999987.99980184]\n",
      " [ 100009.65277273]]\n",
      "10000000.0\n"
     ]
    }
   ],
   "source": [
    "opt_port = p_m.opt_port(sigma, R)\n",
    "w = opt_port\n",
    "#print(w * 100)\n",
    "#print(np.sum(w))\n",
    "print(w * money)\n",
    "print(np.sum(w * money))"
   ]
  },
  {
   "cell_type": "markdown",
   "metadata": {},
   "source": [
    "## We display a possible efficient frontier (in blue) and the best possible portfolio found (in red)"
   ]
  },
  {
   "cell_type": "code",
   "execution_count": 21,
   "metadata": {
    "collapsed": false,
    "scrolled": true
   },
   "outputs": [
    {
     "data": {
      "image/png": "[encoded data removed]",
      "text/plain": [
       "<matplotlib.figure.Figure at 0x1f58be8f780>"
      ]
     },
     "metadata": {},
     "output_type": "display_data"
    }
   ],
   "source": [
    "import matplotlib.pyplot as plt\n",
    "\n",
    "sigma_opt = np.sqrt(np.dot(opt_port.T, np.dot(cov, opt_port)))\n",
    "R_opt = np.dot(means, opt_port)\n",
    "\n",
    "plt.plot(sigma, R, 'b-o')\n",
    "plt.plot(sigma_opt, R_opt, 'ro')\n",
    "plt.show()"
   ]
  },
  {
   "cell_type": "code",
   "execution_count": 22,
   "metadata": {
    "collapsed": false
   },
   "outputs": [
    {
     "name": "stderr",
     "output_type": "stream",
     "text": [
      "C:\\Users\\cpcdoy\\Anaconda3\\lib\\site-packages\\requests\\packages\\urllib3\\connectionpool.py:852: InsecureRequestWarning: Unverified HTTPS request is being made. Adding certificate verification is strongly advised. See: https://urllib3.readthedocs.io/en/latest/advanced-usage.html#ssl-warnings\n",
      "  InsecureRequestWarning)\n"
     ]
    }
   ],
   "source": [
    "request = 'asset?columns=ASSET_DATABASE_ID&columns=LABEL&columns=TYPE&TYPE=PORTFOLIO'\n",
    "portfolio_id = int(server.get(request, ())[0]['ASSET_DATABASE_ID']['value'])"
   ]
  },
  {
   "cell_type": "code",
   "execution_count": 23,
   "metadata": {
    "collapsed": false
   },
   "outputs": [
    {
     "data": {
      "text/plain": [
       "575"
      ]
     },
     "execution_count": 23,
     "metadata": {},
     "output_type": "execute_result"
    }
   ],
   "source": [
    "portfolio_id"
   ]
  },
  {
   "cell_type": "markdown",
   "metadata": {},
   "source": [
    "## Get all the assets' values and compute the quantities associated with each"
   ]
  },
  {
   "cell_type": "code",
   "execution_count": 48,
   "metadata": {
    "collapsed": false,
    "scrolled": true
   },
   "outputs": [
    {
     "name": "stdout",
     "output_type": "stream",
     "text": [
      "306\n"
     ]
    },
    {
     "name": "stderr",
     "output_type": "stream",
     "text": [
      "C:\\Users\\cpcdoy\\Anaconda3\\lib\\site-packages\\requests\\packages\\urllib3\\connectionpool.py:852: InsecureRequestWarning: Unverified HTTPS request is being made. Adding certificate verification is strongly advised. See: https://urllib3.readthedocs.io/en/latest/advanced-usage.html#ssl-warnings\n",
      "  InsecureRequestWarning)\n"
     ]
    },
    {
     "name": "stdout",
     "output_type": "stream",
     "text": [
      "div [ 1856.41818898]\n",
      "352\n"
     ]
    },
    {
     "name": "stderr",
     "output_type": "stream",
     "text": [
      "C:\\Users\\cpcdoy\\Anaconda3\\lib\\site-packages\\requests\\packages\\urllib3\\connectionpool.py:852: InsecureRequestWarning: Unverified HTTPS request is being made. Adding certificate verification is strongly advised. See: https://urllib3.readthedocs.io/en/latest/advanced-usage.html#ssl-warnings\n",
      "  InsecureRequestWarning)\n"
     ]
    },
    {
     "name": "stdout",
     "output_type": "stream",
     "text": [
      "div [ 2595.28927387]\n",
      "8\n"
     ]
    },
    {
     "name": "stderr",
     "output_type": "stream",
     "text": [
      "C:\\Users\\cpcdoy\\Anaconda3\\lib\\site-packages\\requests\\packages\\urllib3\\connectionpool.py:852: InsecureRequestWarning: Unverified HTTPS request is being made. Adding certificate verification is strongly advised. See: https://urllib3.readthedocs.io/en/latest/advanced-usage.html#ssl-warnings\n",
      "  InsecureRequestWarning)\n"
     ]
    },
    {
     "name": "stdout",
     "output_type": "stream",
     "text": [
      "div [ 2500.12116615]\n",
      "516\n"
     ]
    },
    {
     "name": "stderr",
     "output_type": "stream",
     "text": [
      "C:\\Users\\cpcdoy\\Anaconda3\\lib\\site-packages\\requests\\packages\\urllib3\\connectionpool.py:852: InsecureRequestWarning: Unverified HTTPS request is being made. Adding certificate verification is strongly advised. See: https://urllib3.readthedocs.io/en/latest/advanced-usage.html#ssl-warnings\n",
      "  InsecureRequestWarning)\n"
     ]
    },
    {
     "name": "stdout",
     "output_type": "stream",
     "text": [
      "div [ 9930.99462203]\n",
      "147\n"
     ]
    },
    {
     "name": "stderr",
     "output_type": "stream",
     "text": [
      "C:\\Users\\cpcdoy\\Anaconda3\\lib\\site-packages\\requests\\packages\\urllib3\\connectionpool.py:852: InsecureRequestWarning: Unverified HTTPS request is being made. Adding certificate verification is strongly advised. See: https://urllib3.readthedocs.io/en/latest/advanced-usage.html#ssl-warnings\n",
      "  InsecureRequestWarning)\n"
     ]
    },
    {
     "name": "stdout",
     "output_type": "stream",
     "text": [
      "div [ 13034.33127327]\n",
      "433\n"
     ]
    },
    {
     "name": "stderr",
     "output_type": "stream",
     "text": [
      "C:\\Users\\cpcdoy\\Anaconda3\\lib\\site-packages\\requests\\packages\\urllib3\\connectionpool.py:852: InsecureRequestWarning: Unverified HTTPS request is being made. Adding certificate verification is strongly advised. See: https://urllib3.readthedocs.io/en/latest/advanced-usage.html#ssl-warnings\n",
      "  InsecureRequestWarning)\n"
     ]
    },
    {
     "name": "stdout",
     "output_type": "stream",
     "text": [
      "div [ 271.14943638]\n",
      "519\n"
     ]
    },
    {
     "name": "stderr",
     "output_type": "stream",
     "text": [
      "C:\\Users\\cpcdoy\\Anaconda3\\lib\\site-packages\\requests\\packages\\urllib3\\connectionpool.py:852: InsecureRequestWarning: Unverified HTTPS request is being made. Adding certificate verification is strongly advised. See: https://urllib3.readthedocs.io/en/latest/advanced-usage.html#ssl-warnings\n",
      "  InsecureRequestWarning)\n"
     ]
    },
    {
     "name": "stdout",
     "output_type": "stream",
     "text": [
      "div [ 4406.56267008]\n",
      "238\n"
     ]
    },
    {
     "name": "stderr",
     "output_type": "stream",
     "text": [
      "C:\\Users\\cpcdoy\\Anaconda3\\lib\\site-packages\\requests\\packages\\urllib3\\connectionpool.py:852: InsecureRequestWarning: Unverified HTTPS request is being made. Adding certificate verification is strongly advised. See: https://urllib3.readthedocs.io/en/latest/advanced-usage.html#ssl-warnings\n",
      "  InsecureRequestWarning)\n"
     ]
    },
    {
     "name": "stdout",
     "output_type": "stream",
     "text": [
      "div [ 24002.27965953]\n",
      "331\n"
     ]
    },
    {
     "name": "stderr",
     "output_type": "stream",
     "text": [
      "C:\\Users\\cpcdoy\\Anaconda3\\lib\\site-packages\\requests\\packages\\urllib3\\connectionpool.py:852: InsecureRequestWarning: Unverified HTTPS request is being made. Adding certificate verification is strongly advised. See: https://urllib3.readthedocs.io/en/latest/advanced-usage.html#ssl-warnings\n",
      "  InsecureRequestWarning)\n"
     ]
    },
    {
     "name": "stdout",
     "output_type": "stream",
     "text": [
      "div [ 3294.40215019]\n",
      "499\n"
     ]
    },
    {
     "name": "stderr",
     "output_type": "stream",
     "text": [
      "C:\\Users\\cpcdoy\\Anaconda3\\lib\\site-packages\\requests\\packages\\urllib3\\connectionpool.py:852: InsecureRequestWarning: Unverified HTTPS request is being made. Adding certificate verification is strongly advised. See: https://urllib3.readthedocs.io/en/latest/advanced-usage.html#ssl-warnings\n",
      "  InsecureRequestWarning)\n"
     ]
    },
    {
     "name": "stdout",
     "output_type": "stream",
     "text": [
      "div [ 12004.61158268]\n",
      "31\n"
     ]
    },
    {
     "name": "stderr",
     "output_type": "stream",
     "text": [
      "C:\\Users\\cpcdoy\\Anaconda3\\lib\\site-packages\\requests\\packages\\urllib3\\connectionpool.py:852: InsecureRequestWarning: Unverified HTTPS request is being made. Adding certificate verification is strongly advised. See: https://urllib3.readthedocs.io/en/latest/advanced-usage.html#ssl-warnings\n",
      "  InsecureRequestWarning)\n"
     ]
    },
    {
     "name": "stdout",
     "output_type": "stream",
     "text": [
      "div [ 40816.18810231]\n",
      "476\n"
     ]
    },
    {
     "name": "stderr",
     "output_type": "stream",
     "text": [
      "C:\\Users\\cpcdoy\\Anaconda3\\lib\\site-packages\\requests\\packages\\urllib3\\connectionpool.py:852: InsecureRequestWarning: Unverified HTTPS request is being made. Adding certificate verification is strongly advised. See: https://urllib3.readthedocs.io/en/latest/advanced-usage.html#ssl-warnings\n",
      "  InsecureRequestWarning)\n"
     ]
    },
    {
     "name": "stdout",
     "output_type": "stream",
     "text": [
      "div [ 1813.51547834]\n",
      "408\n"
     ]
    },
    {
     "name": "stderr",
     "output_type": "stream",
     "text": [
      "C:\\Users\\cpcdoy\\Anaconda3\\lib\\site-packages\\requests\\packages\\urllib3\\connectionpool.py:852: InsecureRequestWarning: Unverified HTTPS request is being made. Adding certificate verification is strongly advised. See: https://urllib3.readthedocs.io/en/latest/advanced-usage.html#ssl-warnings\n",
      "  InsecureRequestWarning)\n"
     ]
    },
    {
     "name": "stdout",
     "output_type": "stream",
     "text": [
      "div [ 215.03418607]\n",
      "308\n"
     ]
    },
    {
     "name": "stderr",
     "output_type": "stream",
     "text": [
      "C:\\Users\\cpcdoy\\Anaconda3\\lib\\site-packages\\requests\\packages\\urllib3\\connectionpool.py:852: InsecureRequestWarning: Unverified HTTPS request is being made. Adding certificate verification is strongly advised. See: https://urllib3.readthedocs.io/en/latest/advanced-usage.html#ssl-warnings\n",
      "  InsecureRequestWarning)\n"
     ]
    },
    {
     "name": "stdout",
     "output_type": "stream",
     "text": [
      "div [ 1769.89942912]\n",
      "421\n"
     ]
    },
    {
     "name": "stderr",
     "output_type": "stream",
     "text": [
      "C:\\Users\\cpcdoy\\Anaconda3\\lib\\site-packages\\requests\\packages\\urllib3\\connectionpool.py:852: InsecureRequestWarning: Unverified HTTPS request is being made. Adding certificate verification is strongly advised. See: https://urllib3.readthedocs.io/en/latest/advanced-usage.html#ssl-warnings\n",
      "  InsecureRequestWarning)\n"
     ]
    },
    {
     "name": "stdout",
     "output_type": "stream",
     "text": [
      "div [ 1384.80620672]\n",
      "402\n"
     ]
    },
    {
     "name": "stderr",
     "output_type": "stream",
     "text": [
      "C:\\Users\\cpcdoy\\Anaconda3\\lib\\site-packages\\requests\\packages\\urllib3\\connectionpool.py:852: InsecureRequestWarning: Unverified HTTPS request is being made. Adding certificate verification is strongly advised. See: https://urllib3.readthedocs.io/en/latest/advanced-usage.html#ssl-warnings\n",
      "  InsecureRequestWarning)\n"
     ]
    },
    {
     "name": "stdout",
     "output_type": "stream",
     "text": [
      "div [ 1002.92290716]\n",
      "422\n"
     ]
    },
    {
     "name": "stderr",
     "output_type": "stream",
     "text": [
      "C:\\Users\\cpcdoy\\Anaconda3\\lib\\site-packages\\requests\\packages\\urllib3\\connectionpool.py:852: InsecureRequestWarning: Unverified HTTPS request is being made. Adding certificate verification is strongly advised. See: https://urllib3.readthedocs.io/en/latest/advanced-usage.html#ssl-warnings\n",
      "  InsecureRequestWarning)\n"
     ]
    },
    {
     "name": "stdout",
     "output_type": "stream",
     "text": [
      "div [ 68.98928363]\n",
      "482\n"
     ]
    },
    {
     "name": "stderr",
     "output_type": "stream",
     "text": [
      "C:\\Users\\cpcdoy\\Anaconda3\\lib\\site-packages\\requests\\packages\\urllib3\\connectionpool.py:852: InsecureRequestWarning: Unverified HTTPS request is being made. Adding certificate verification is strongly advised. See: https://urllib3.readthedocs.io/en/latest/advanced-usage.html#ssl-warnings\n",
      "  InsecureRequestWarning)\n"
     ]
    },
    {
     "name": "stdout",
     "output_type": "stream",
     "text": [
      "div [ 341.08616338]\n",
      "111\n"
     ]
    },
    {
     "name": "stderr",
     "output_type": "stream",
     "text": [
      "C:\\Users\\cpcdoy\\Anaconda3\\lib\\site-packages\\requests\\packages\\urllib3\\connectionpool.py:852: InsecureRequestWarning: Unverified HTTPS request is being made. Adding certificate verification is strongly advised. See: https://urllib3.readthedocs.io/en/latest/advanced-usage.html#ssl-warnings\n",
      "  InsecureRequestWarning)\n"
     ]
    },
    {
     "name": "stdout",
     "output_type": "stream",
     "text": [
      "div [ 43065.80533169]\n",
      "549\n"
     ]
    },
    {
     "name": "stderr",
     "output_type": "stream",
     "text": [
      "C:\\Users\\cpcdoy\\Anaconda3\\lib\\site-packages\\requests\\packages\\urllib3\\connectionpool.py:852: InsecureRequestWarning: Unverified HTTPS request is being made. Adding certificate verification is strongly advised. See: https://urllib3.readthedocs.io/en/latest/advanced-usage.html#ssl-warnings\n",
      "  InsecureRequestWarning)\n"
     ]
    },
    {
     "name": "stdout",
     "output_type": "stream",
     "text": [
      "div [ 694.36681783]\n"
     ]
    }
   ],
   "source": [
    "c = CurrencyRates()\n",
    "amounts = w\n",
    "j = 0\n",
    "r = 0\n",
    "cotation_date = '2011-12-31'\n",
    "cotation_date2 = '2012-02-01'\n",
    "assets_dict = []\n",
    "vals = np.zeros(p_m.sharpe_means_idx.shape[0])\n",
    "q = np.zeros(p_m.sharpe_means_idx.shape[0])\n",
    "for i in p_m.sharpe_means_idx:\n",
    "    print(p_m.assets_ids[i])\n",
    "    asset = server.get('asset/{}/quote?start_date={}&end_date={}', (p_m.assets_ids[i], cotation_date, cotation_date2))\n",
    "    #m, curr = p_m.all_assets[p_m.assets_ids[i]]['LAST_CLOSE_VALUE']['value'].split()\n",
    "    m = float(asset[0]['close'])\n",
    "    #if curr != 'EUR':\n",
    "    #    val = c.convert(curr,'EUR',float(m))\n",
    "    #else:\n",
    "    val = m\n",
    "    vals[j] = val\n",
    "    quantity = amounts[j] * money / val\n",
    "    q[j] = int(quantity)\n",
    "    print('div', amounts[j] * money / val)\n",
    "    assets_dict.append({'asset': {'asset': int(p_m.assets_ids[i]), 'quantity': int(quantity)}})\n",
    "    j += 1"
   ]
  },
  {
   "cell_type": "markdown",
   "metadata": {},
   "source": [
    "## Verification of the result\n",
    "The result should be ~1e7. We have some precision loss because we discard the decimal values"
   ]
  },
  {
   "cell_type": "code",
   "execution_count": 49,
   "metadata": {
    "collapsed": false
   },
   "outputs": [
    {
     "data": {
      "text/plain": [
       "9996541.6899999995"
      ]
     },
     "execution_count": 49,
     "metadata": {},
     "output_type": "execute_result"
    }
   ],
   "source": [
    "q = np.array(q)\n",
    "vals = np.array(vals)\n",
    "np.sum(q * vals)"
   ]
  },
  {
   "cell_type": "code",
   "execution_count": 25,
   "metadata": {
    "collapsed": false
   },
   "outputs": [],
   "source": [
    "potfolio_dict = {'currency': {'code': 'EUR'},'label': 'PORTFOLIO_USER7','type': 'front',\n",
    "                 'values':{'2012-01-01':  assets_dict}}"
   ]
  },
  {
   "cell_type": "code",
   "execution_count": 26,
   "metadata": {
    "collapsed": false
   },
   "outputs": [
    {
     "name": "stdout",
     "output_type": "stream",
     "text": [
      "{'values': {'2012-01-01': [{'asset': {'asset': 306, 'quantity': 1856}}, {'asset': {'asset': 352, 'quantity': 2595}}, {'asset': {'asset': 8, 'quantity': 2500}}, {'asset': {'asset': 516, 'quantity': 9930}}, {'asset': {'asset': 147, 'quantity': 13034}}, {'asset': {'asset': 433, 'quantity': 271}}, {'asset': {'asset': 519, 'quantity': 4406}}, {'asset': {'asset': 238, 'quantity': 24002}}, {'asset': {'asset': 331, 'quantity': 3294}}, {'asset': {'asset': 499, 'quantity': 12004}}, {'asset': {'asset': 31, 'quantity': 40816}}, {'asset': {'asset': 476, 'quantity': 1813}}, {'asset': {'asset': 408, 'quantity': 215}}, {'asset': {'asset': 308, 'quantity': 1769}}, {'asset': {'asset': 421, 'quantity': 1384}}, {'asset': {'asset': 402, 'quantity': 1002}}, {'asset': {'asset': 422, 'quantity': 68}}, {'asset': {'asset': 482, 'quantity': 341}}, {'asset': {'asset': 111, 'quantity': 43065}}, {'asset': {'asset': 549, 'quantity': 694}}]}, 'type': 'front', 'label': 'PORTFOLIO_USER7', 'currency': {'code': 'EUR'}}\n"
     ]
    }
   ],
   "source": [
    "print(potfolio_dict)"
   ]
  },
  {
   "cell_type": "markdown",
   "metadata": {},
   "source": [
    "## Push the portfolio to the server"
   ]
  },
  {
   "cell_type": "code",
   "execution_count": 41,
   "metadata": {
    "collapsed": false
   },
   "outputs": [
    {
     "name": "stdout",
     "output_type": "stream",
     "text": [
      "req https://dolphin.jump-technology.com:3389/api/v1/portfolio/575/dyn_amount_compo\n"
     ]
    },
    {
     "name": "stderr",
     "output_type": "stream",
     "text": [
      "C:\\Users\\cpcdoy\\Anaconda3\\lib\\site-packages\\requests\\packages\\urllib3\\connectionpool.py:852: InsecureRequestWarning: Unverified HTTPS request is being made. Adding certificate verification is strongly advised. See: https://urllib3.readthedocs.io/en/latest/advanced-usage.html#ssl-warnings\n",
      "  InsecureRequestWarning)\n"
     ]
    },
    {
     "data": {
      "text/plain": [
       "''"
      ]
     },
     "execution_count": 41,
     "metadata": {},
     "output_type": "execute_result"
    }
   ],
   "source": [
    "server.put(\"portfolio/{}/dyn_amount_compo\", (portfolio_id), potfolio_dict)"
   ]
  },
  {
   "cell_type": "markdown",
   "metadata": {},
   "source": [
    "## Verification that it was correctly pushed"
   ]
  },
  {
   "cell_type": "code",
   "execution_count": 37,
   "metadata": {
    "collapsed": false
   },
   "outputs": [
    {
     "name": "stderr",
     "output_type": "stream",
     "text": [
      "C:\\Users\\cpcdoy\\Anaconda3\\lib\\site-packages\\requests\\packages\\urllib3\\connectionpool.py:852: InsecureRequestWarning: Unverified HTTPS request is being made. Adding certificate verification is strongly advised. See: https://urllib3.readthedocs.io/en/latest/advanced-usage.html#ssl-warnings\n",
      "  InsecureRequestWarning)\n"
     ]
    },
    {
     "data": {
      "text/plain": [
       "{'currency': {'code': 'EUR'},\n",
       " 'label': 'PORTFOLIO_USER7',\n",
       " 'type': 'front',\n",
       " 'values': {'2012-01-01': [{'asset': {'asset': 352, 'quantity': 2595.0}},\n",
       "   {'asset': {'asset': 482, 'quantity': 341.0}},\n",
       "   {'asset': {'asset': 516, 'quantity': 9930.0}},\n",
       "   {'asset': {'asset': 421, 'quantity': 1384.0}},\n",
       "   {'asset': {'asset': 549, 'quantity': 694.0}},\n",
       "   {'asset': {'asset': 422, 'quantity': 68.0}},\n",
       "   {'asset': {'asset': 519, 'quantity': 4406.0}},\n",
       "   {'asset': {'asset': 8, 'quantity': 2500.0}},\n",
       "   {'asset': {'asset': 331, 'quantity': 3294.0}},\n",
       "   {'asset': {'asset': 238, 'quantity': 24002.0}},\n",
       "   {'asset': {'asset': 111, 'quantity': 43065.0}},\n",
       "   {'asset': {'asset': 433, 'quantity': 271.0}},\n",
       "   {'asset': {'asset': 306, 'quantity': 1856.0}},\n",
       "   {'asset': {'asset': 402, 'quantity': 1002.0}},\n",
       "   {'asset': {'asset': 147, 'quantity': 13034.0}},\n",
       "   {'asset': {'asset': 499, 'quantity': 12004.0}},\n",
       "   {'asset': {'asset': 308, 'quantity': 1769.0}},\n",
       "   {'asset': {'asset': 408, 'quantity': 215.0}},\n",
       "   {'asset': {'asset': 476, 'quantity': 1813.0}},\n",
       "   {'asset': {'asset': 31, 'quantity': 40816.0}}]}}"
      ]
     },
     "execution_count": 37,
     "metadata": {},
     "output_type": "execute_result"
    }
   ],
   "source": [
    "server.get(\"portfolio/{}/dyn_amount_compo\", (575))"
   ]
  }
 ],
 "metadata": {
  "anaconda-cloud": {},
  "kernelspec": {
   "display_name": "Python [default]",
   "language": "python",
   "name": "python3"
  },
  "language_info": {
   "codemirror_mode": {
    "name": "ipython",
    "version": 3
   },
   "file_extension": ".py",
   "mimetype": "text/x-python",
   "name": "python",
   "nbconvert_exporter": "python",
   "pygments_lexer": "ipython3",
   "version": "3.5.2"
  }
 },
 "nbformat": 4,
 "nbformat_minor": 2
}
