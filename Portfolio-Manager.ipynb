{
 "cells": [
  {
   "cell_type": "code",
   "execution_count": 1,
   "metadata": {
    "collapsed": true
   },
   "outputs": [],
   "source": [
    "import requests\n",
    "import json\n",
    "import numpy as np\n",
    "import cvxopt.solvers"
   ]
  },
  {
   "cell_type": "code",
   "execution_count": 2,
   "metadata": {
    "collapsed": true
   },
   "outputs": [],
   "source": [
    "class server_api:\n",
    "    def __init__(self, user='', pwd=''):\n",
    "        self.url = 'https://dolphin.jump-technology.com:3389/api/v1/'\n",
    "        self.s = requests.Session()\n",
    "        self.s.auth = (user, pwd)\n",
    "        self.s.headers.update({'x-test': 'true'})\n",
    "    def expand_params(self, req, params):\n",
    "        request = ''\n",
    "        if type(params) is tuple:\n",
    "            request = self.url + (req.format(*params))\n",
    "        else:\n",
    "            request = self.url + (req.format(params))\n",
    "        return request\n",
    "    def get(self, req, params):\n",
    "        request = self.expand_params(req, params)\n",
    "        self.res = ''\n",
    "        try:\n",
    "            self.data = self.s.get(request, headers={'x-test2': 'true'}, verify=False)\n",
    "            self.res = json.loads(self.data.text)\n",
    "        except:\n",
    "            print('Error while connecting')\n",
    "        return self.res\n",
    "    def post(self, req, params, body):\n",
    "        request = self.expand_params(req, params)\n",
    "        self.res = ''\n",
    "        try:\n",
    "            self.data = self.s.post(url=request, json=body, headers={'x-test2': 'true'}, verify=False)\n",
    "            self.res = json.loads(self.data.text)\n",
    "        except Exception as err:\n",
    "            print(err)\n",
    "            print('Error while connecting')\n",
    "        return self.res\n",
    "    def get_cached(self):\n",
    "        return self.res"
   ]
  },
  {
   "cell_type": "code",
   "execution_count": 3,
   "metadata": {
    "collapsed": false,
    "scrolled": true
   },
   "outputs": [],
   "source": [
    "server = server_api('epita_user_7', 'dolphin19423')"
   ]
  },
  {
   "cell_type": "code",
   "execution_count": 4,
   "metadata": {
    "collapsed": false
   },
   "outputs": [
    {
     "name": "stderr",
     "output_type": "stream",
     "text": [
      "C:\\Users\\cpcdoy\\Anaconda3\\lib\\site-packages\\requests\\packages\\urllib3\\connectionpool.py:838: InsecureRequestWarning: Unverified HTTPS request is being made. Adding certificate verification is strongly advised. See: https://urllib3.readthedocs.io/en/latest/security.html\n",
      "  InsecureRequestWarning)\n"
     ]
    },
    {
     "data": {
      "text/plain": [
       "{}"
      ]
     },
     "execution_count": 4,
     "metadata": {},
     "output_type": "execute_result"
    }
   ],
   "source": [
    "server.post('ratio/invoke', (), {\n",
    "'_ratio':[17, 20, 22, 18],\n",
    "'_asset':[564],\n",
    "'_bench':None,\n",
    "'_startDate':'2015-01-01',\n",
    "'_endDate':'2017-01-01',\n",
    "'_frequency':None})"
   ]
  },
  {
   "cell_type": "code",
   "execution_count": 116,
   "metadata": {
    "collapsed": false
   },
   "outputs": [],
   "source": [
    "class portfolio_manager:\n",
    "    def __init__(self, date_begin, date_end, nb_assets=20, beg=1):\n",
    "        self.assets = []\n",
    "        off = 0\n",
    "        i = beg\n",
    "        self.names = []\n",
    "        while i < nb_assets + off + beg:\n",
    "            asset = server.get('asset/{}/quote?start_date={}&end_date={}', (i + 1, date_begin, date_end))\n",
    "            if type(asset) is list:\n",
    "                self.assets.append(np.array(asset))\n",
    "            else:\n",
    "                while type(asset) != list:\n",
    "                    #print(type(asset))\n",
    "                    j = i + 1\n",
    "                    asset = server.get('asset/{}/quote?start_date={}&end_date={}', (j + 1, date_begin, date_end))\n",
    "                    j += 1\n",
    "                off += (j - i)\n",
    "                i = j\n",
    "                #print('end else ', i, j, off)\n",
    "                self.assets.append(np.array(asset))\n",
    "            data = server.get('asset/{}', (i + 1))\n",
    "            self.names.append(data['LABEL']['value'])\n",
    "            print('Adding asset', i, 'to the portfolio')\n",
    "            i += 1\n",
    "        self.assets = np.array(self.assets)\n",
    "\n",
    "    def get_assets(self):\n",
    "        return self.assets\n",
    "\n",
    "    def compute_means_and_cov(self):\n",
    "        self.assets_means = []\n",
    "        rets = []\n",
    "\n",
    "        min_size = 9999999999\n",
    "        for asset in range(self.assets.shape[0]):\n",
    "            #print(self.assets[asset].shape)\n",
    "            returns = [self.assets[asset][i]['return'] for i in range(self.assets[asset].shape[0])]\n",
    "            min_size = min(min_size, len(returns))\n",
    "            rets.append(np.array(returns))\n",
    "            mean_ret = np.mean(returns)\n",
    "            self.assets_means.append(mean_ret)\n",
    "    \n",
    "        rets = np.array(rets)\n",
    "\n",
    "        #print(min_size)\n",
    "\n",
    "        self.rets_norm = []\n",
    "        for asset in range(self.assets.shape[0]):\n",
    "            self.rets_norm.append(rets[asset][:min_size])\n",
    "    \n",
    "        self.rets_norm = np.array(self.rets_norm)\n",
    "        self.cov = np.cov(self.rets_norm)\n",
    "        \n",
    "        #print(self.cov.shape)\n",
    "        \n",
    "        return (np.array(self.assets_means), self.cov)\n",
    "    \n",
    "    def find_optimal_portfolio(self, risk_tolerance = 1.0):\n",
    "        means, cov = p_m.compute_means_and_cov()\n",
    "        \n",
    "        m = means.shape[0]\n",
    "        print('Optimizing', m, 'assets')\n",
    "        #print(m)\n",
    "        r_min = 0.1\n",
    "        \n",
    "        risk_tolerance = 1.0\n",
    "        #print((-0.5 * risk_tolerance * means).shape)\n",
    "        q = cvxopt.matrix(-0.5 * risk_tolerance * means)\n",
    "        \n",
    "        P = cvxopt.matrix(cov)\n",
    "\n",
    "        A = cvxopt.matrix(np.ones(m), (1, m), 'd')\n",
    "        b = cvxopt.matrix(np.ones(1))\n",
    "        \n",
    "        G = cvxopt.matrix(-np.identity(m))\n",
    "        h = cvxopt.matrix(np.zeros(m))\n",
    "        \n",
    "        s = cvxopt.solvers.qp(P, q, G, h, A, b)['x']\n",
    "        return s"
   ]
  },
  {
   "cell_type": "code",
   "execution_count": 117,
   "metadata": {
    "collapsed": false,
    "scrolled": true
   },
   "outputs": [
    {
     "name": "stderr",
     "output_type": "stream",
     "text": [
      "C:\\Users\\cpcdoy\\Anaconda3\\lib\\site-packages\\requests\\packages\\urllib3\\connectionpool.py:838: InsecureRequestWarning: Unverified HTTPS request is being made. Adding certificate verification is strongly advised. See: https://urllib3.readthedocs.io/en/latest/security.html\n",
      "  InsecureRequestWarning)\n",
      "C:\\Users\\cpcdoy\\Anaconda3\\lib\\site-packages\\requests\\packages\\urllib3\\connectionpool.py:838: InsecureRequestWarning: Unverified HTTPS request is being made. Adding certificate verification is strongly advised. See: https://urllib3.readthedocs.io/en/latest/security.html\n",
      "  InsecureRequestWarning)\n",
      "C:\\Users\\cpcdoy\\Anaconda3\\lib\\site-packages\\requests\\packages\\urllib3\\connectionpool.py:838: InsecureRequestWarning: Unverified HTTPS request is being made. Adding certificate verification is strongly advised. See: https://urllib3.readthedocs.io/en/latest/security.html\n",
      "  InsecureRequestWarning)\n"
     ]
    },
    {
     "name": "stdout",
     "output_type": "stream",
     "text": [
      "Adding asset 3 to the portfolio\n"
     ]
    },
    {
     "name": "stderr",
     "output_type": "stream",
     "text": [
      "C:\\Users\\cpcdoy\\Anaconda3\\lib\\site-packages\\requests\\packages\\urllib3\\connectionpool.py:838: InsecureRequestWarning: Unverified HTTPS request is being made. Adding certificate verification is strongly advised. See: https://urllib3.readthedocs.io/en/latest/security.html\n",
      "  InsecureRequestWarning)\n",
      "C:\\Users\\cpcdoy\\Anaconda3\\lib\\site-packages\\requests\\packages\\urllib3\\connectionpool.py:838: InsecureRequestWarning: Unverified HTTPS request is being made. Adding certificate verification is strongly advised. See: https://urllib3.readthedocs.io/en/latest/security.html\n",
      "  InsecureRequestWarning)\n"
     ]
    },
    {
     "name": "stdout",
     "output_type": "stream",
     "text": [
      "Adding asset 4 to the portfolio\n"
     ]
    },
    {
     "name": "stderr",
     "output_type": "stream",
     "text": [
      "C:\\Users\\cpcdoy\\Anaconda3\\lib\\site-packages\\requests\\packages\\urllib3\\connectionpool.py:838: InsecureRequestWarning: Unverified HTTPS request is being made. Adding certificate verification is strongly advised. See: https://urllib3.readthedocs.io/en/latest/security.html\n",
      "  InsecureRequestWarning)\n",
      "C:\\Users\\cpcdoy\\Anaconda3\\lib\\site-packages\\requests\\packages\\urllib3\\connectionpool.py:838: InsecureRequestWarning: Unverified HTTPS request is being made. Adding certificate verification is strongly advised. See: https://urllib3.readthedocs.io/en/latest/security.html\n",
      "  InsecureRequestWarning)\n"
     ]
    },
    {
     "name": "stdout",
     "output_type": "stream",
     "text": [
      "Adding asset 5 to the portfolio\n"
     ]
    },
    {
     "name": "stderr",
     "output_type": "stream",
     "text": [
      "C:\\Users\\cpcdoy\\Anaconda3\\lib\\site-packages\\requests\\packages\\urllib3\\connectionpool.py:838: InsecureRequestWarning: Unverified HTTPS request is being made. Adding certificate verification is strongly advised. See: https://urllib3.readthedocs.io/en/latest/security.html\n",
      "  InsecureRequestWarning)\n",
      "C:\\Users\\cpcdoy\\Anaconda3\\lib\\site-packages\\requests\\packages\\urllib3\\connectionpool.py:838: InsecureRequestWarning: Unverified HTTPS request is being made. Adding certificate verification is strongly advised. See: https://urllib3.readthedocs.io/en/latest/security.html\n",
      "  InsecureRequestWarning)\n"
     ]
    },
    {
     "name": "stdout",
     "output_type": "stream",
     "text": [
      "Adding asset 6 to the portfolio\n"
     ]
    },
    {
     "name": "stderr",
     "output_type": "stream",
     "text": [
      "C:\\Users\\cpcdoy\\Anaconda3\\lib\\site-packages\\requests\\packages\\urllib3\\connectionpool.py:838: InsecureRequestWarning: Unverified HTTPS request is being made. Adding certificate verification is strongly advised. See: https://urllib3.readthedocs.io/en/latest/security.html\n",
      "  InsecureRequestWarning)\n",
      "C:\\Users\\cpcdoy\\Anaconda3\\lib\\site-packages\\requests\\packages\\urllib3\\connectionpool.py:838: InsecureRequestWarning: Unverified HTTPS request is being made. Adding certificate verification is strongly advised. See: https://urllib3.readthedocs.io/en/latest/security.html\n",
      "  InsecureRequestWarning)\n"
     ]
    },
    {
     "name": "stdout",
     "output_type": "stream",
     "text": [
      "Adding asset 7 to the portfolio\n"
     ]
    }
   ],
   "source": [
    "p_m = portfolio_manager('2012-01-01', '2017-06-01', 5)"
   ]
  },
  {
   "cell_type": "code",
   "execution_count": 98,
   "metadata": {
    "collapsed": false
   },
   "outputs": [
    {
     "name": "stdout",
     "output_type": "stream",
     "text": [
      "Optimizing  5  assets\n",
      "     pcost       dcost       gap    pres   dres\n",
      " 0: -1.6983e-04 -1.0005e+00  1e+00  1e-16  3e+00\n",
      " 1: -1.6993e-04 -1.0470e-02  1e-02  1e-16  3e-02\n",
      " 2: -1.7887e-04 -5.6618e-04  4e-04  5e-17  1e-03\n",
      " 3: -3.3231e-04 -4.5226e-04  1e-04  2e-16  3e-19\n",
      " 4: -3.5869e-04 -3.6879e-04  1e-05  2e-16  2e-19\n",
      " 5: -3.6451e-04 -3.6512e-04  6e-07  1e-17  2e-19\n",
      " 6: -3.6492e-04 -3.6494e-04  1e-08  1e-16  1e-19\n",
      "Optimal solution found.\n",
      "[ 9.27e-01]\n",
      "[ 1.81e-06]\n",
      "[ 3.00e-04]\n",
      "[ 7.25e-02]\n",
      "[ 6.97e-06]\n",
      "\n",
      "1.0\n"
     ]
    }
   ],
   "source": [
    "s = p_m.find_optimal_portfolio()\n",
    "print(s)\n",
    "print(np.sum(s))"
   ]
  },
  {
   "cell_type": "code",
   "execution_count": null,
   "metadata": {
    "collapsed": true
   },
   "outputs": [],
   "source": []
  }
 ],
 "metadata": {
  "anaconda-cloud": {},
  "kernelspec": {
   "display_name": "Python [default]",
   "language": "python",
   "name": "python3"
  },
  "language_info": {
   "codemirror_mode": {
    "name": "ipython",
    "version": 3
   },
   "file_extension": ".py",
   "mimetype": "text/x-python",
   "name": "python",
   "nbconvert_exporter": "python",
   "pygments_lexer": "ipython3",
   "version": "3.5.2"
  }
 },
 "nbformat": 4,
 "nbformat_minor": 2
}
